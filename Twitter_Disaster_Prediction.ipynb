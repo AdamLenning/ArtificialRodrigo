{
  "cells": [
    {
      "cell_type": "markdown",
      "source": [
        "Install the transformers package and other packages necessary to run the bert model."
      ],
      "metadata": {
        "id": "Jd6SsGGKnji-"
      }
    },
    {
      "cell_type": "code",
      "execution_count": null,
      "metadata": {
        "colab": {
          "base_uri": "https://localhost:8080/"
        },
        "id": "NR1LyzbQGnS6",
        "outputId": "6af5bd6f-0761-48f9-f769-6686b8d56be0"
      },
      "outputs": [
        {
          "name": "stdout",
          "output_type": "stream",
          "text": [
            "Collecting transformers\n",
            "  Downloading transformers-4.13.0-py3-none-any.whl (3.3 MB)\n",
            "\u001b[K     |████████████████████████████████| 3.3 MB 5.2 MB/s \n",
            "\u001b[?25hRequirement already satisfied: numpy>=1.17 in /usr/local/lib/python3.7/dist-packages (from transformers) (1.19.5)\n",
            "Collecting huggingface-hub<1.0,>=0.1.0\n",
            "  Downloading huggingface_hub-0.2.1-py3-none-any.whl (61 kB)\n",
            "\u001b[K     |████████████████████████████████| 61 kB 449 kB/s \n",
            "\u001b[?25hRequirement already satisfied: requests in /usr/local/lib/python3.7/dist-packages (from transformers) (2.23.0)\n",
            "Collecting sacremoses\n",
            "  Downloading sacremoses-0.0.46-py3-none-any.whl (895 kB)\n",
            "\u001b[K     |████████████████████████████████| 895 kB 38.2 MB/s \n",
            "\u001b[?25hRequirement already satisfied: importlib-metadata in /usr/local/lib/python3.7/dist-packages (from transformers) (4.8.2)\n",
            "Collecting pyyaml>=5.1\n",
            "  Downloading PyYAML-6.0-cp37-cp37m-manylinux_2_5_x86_64.manylinux1_x86_64.manylinux_2_12_x86_64.manylinux2010_x86_64.whl (596 kB)\n",
            "\u001b[K     |████████████████████████████████| 596 kB 47.0 MB/s \n",
            "\u001b[?25hCollecting tokenizers<0.11,>=0.10.1\n",
            "  Downloading tokenizers-0.10.3-cp37-cp37m-manylinux_2_5_x86_64.manylinux1_x86_64.manylinux_2_12_x86_64.manylinux2010_x86_64.whl (3.3 MB)\n",
            "\u001b[K     |████████████████████████████████| 3.3 MB 39.0 MB/s \n",
            "\u001b[?25hRequirement already satisfied: tqdm>=4.27 in /usr/local/lib/python3.7/dist-packages (from transformers) (4.62.3)\n",
            "Requirement already satisfied: regex!=2019.12.17 in /usr/local/lib/python3.7/dist-packages (from transformers) (2019.12.20)\n",
            "Requirement already satisfied: packaging>=20.0 in /usr/local/lib/python3.7/dist-packages (from transformers) (21.3)\n",
            "Requirement already satisfied: filelock in /usr/local/lib/python3.7/dist-packages (from transformers) (3.4.0)\n",
            "Requirement already satisfied: typing-extensions>=3.7.4.3 in /usr/local/lib/python3.7/dist-packages (from huggingface-hub<1.0,>=0.1.0->transformers) (3.10.0.2)\n",
            "Requirement already satisfied: pyparsing!=3.0.5,>=2.0.2 in /usr/local/lib/python3.7/dist-packages (from packaging>=20.0->transformers) (3.0.6)\n",
            "Requirement already satisfied: zipp>=0.5 in /usr/local/lib/python3.7/dist-packages (from importlib-metadata->transformers) (3.6.0)\n",
            "Requirement already satisfied: certifi>=2017.4.17 in /usr/local/lib/python3.7/dist-packages (from requests->transformers) (2021.10.8)\n",
            "Requirement already satisfied: urllib3!=1.25.0,!=1.25.1,<1.26,>=1.21.1 in /usr/local/lib/python3.7/dist-packages (from requests->transformers) (1.24.3)\n",
            "Requirement already satisfied: idna<3,>=2.5 in /usr/local/lib/python3.7/dist-packages (from requests->transformers) (2.10)\n",
            "Requirement already satisfied: chardet<4,>=3.0.2 in /usr/local/lib/python3.7/dist-packages (from requests->transformers) (3.0.4)\n",
            "Requirement already satisfied: joblib in /usr/local/lib/python3.7/dist-packages (from sacremoses->transformers) (1.1.0)\n",
            "Requirement already satisfied: click in /usr/local/lib/python3.7/dist-packages (from sacremoses->transformers) (7.1.2)\n",
            "Requirement already satisfied: six in /usr/local/lib/python3.7/dist-packages (from sacremoses->transformers) (1.15.0)\n",
            "Installing collected packages: pyyaml, tokenizers, sacremoses, huggingface-hub, transformers\n",
            "  Attempting uninstall: pyyaml\n",
            "    Found existing installation: PyYAML 3.13\n",
            "    Uninstalling PyYAML-3.13:\n",
            "      Successfully uninstalled PyYAML-3.13\n",
            "Successfully installed huggingface-hub-0.2.1 pyyaml-6.0 sacremoses-0.0.46 tokenizers-0.10.3 transformers-4.13.0\n"
          ]
        }
      ],
      "source": [
        "!pip install transformers"
      ]
    },
    {
      "cell_type": "code",
      "execution_count": null,
      "metadata": {
        "colab": {
          "base_uri": "https://localhost:8080/"
        },
        "id": "fQMcutmrYzyn",
        "outputId": "2f4f20dd-dd35-41c3-c8a8-f91450cbc20e"
      },
      "outputs": [
        {
          "name": "stdout",
          "output_type": "stream",
          "text": [
            "Collecting tweet-preprocessor\n",
            "  Downloading tweet_preprocessor-0.6.0-py3-none-any.whl (27 kB)\n",
            "Installing collected packages: tweet-preprocessor\n",
            "Successfully installed tweet-preprocessor-0.6.0\n"
          ]
        }
      ],
      "source": [
        "!pip install tweet-preprocessor"
      ]
    },
    {
      "cell_type": "code",
      "execution_count": null,
      "metadata": {
        "colab": {
          "base_uri": "https://localhost:8080/"
        },
        "id": "mXeaJSHtgZMz",
        "outputId": "5014b191-a1e3-4fd8-f25a-7f050dd3a5e7"
      },
      "outputs": [
        {
          "name": "stdout",
          "output_type": "stream",
          "text": [
            "Collecting language-tool-python\n",
            "  Downloading language_tool_python-2.6.2-py3-none-any.whl (30 kB)\n",
            "Requirement already satisfied: tqdm in /usr/local/lib/python3.7/dist-packages (from language-tool-python) (4.62.3)\n",
            "Requirement already satisfied: requests in /usr/local/lib/python3.7/dist-packages (from language-tool-python) (2.23.0)\n",
            "Requirement already satisfied: idna<3,>=2.5 in /usr/local/lib/python3.7/dist-packages (from requests->language-tool-python) (2.10)\n",
            "Requirement already satisfied: certifi>=2017.4.17 in /usr/local/lib/python3.7/dist-packages (from requests->language-tool-python) (2021.10.8)\n",
            "Requirement already satisfied: chardet<4,>=3.0.2 in /usr/local/lib/python3.7/dist-packages (from requests->language-tool-python) (3.0.4)\n",
            "Requirement already satisfied: urllib3!=1.25.0,!=1.25.1,<1.26,>=1.21.1 in /usr/local/lib/python3.7/dist-packages (from requests->language-tool-python) (1.24.3)\n",
            "Installing collected packages: language-tool-python\n",
            "Successfully installed language-tool-python-2.6.2\n"
          ]
        }
      ],
      "source": [
        "!pip install language-tool-python"
      ]
    },
    {
      "cell_type": "markdown",
      "source": [
        "Import required packages"
      ],
      "metadata": {
        "id": "SXaiHkj2nvMG"
      }
    },
    {
      "cell_type": "code",
      "execution_count": null,
      "metadata": {
        "colab": {
          "base_uri": "https://localhost:8080/"
        },
        "id": "_u4VFxYvFoiu",
        "outputId": "c5cf4ce8-b60a-49fc-887d-6d1cc7b89c86"
      },
      "outputs": [
        {
          "name": "stdout",
          "output_type": "stream",
          "text": [
            "[nltk_data] Downloading package averaged_perceptron_tagger to\n",
            "[nltk_data]     /root/nltk_data...\n",
            "[nltk_data]   Package averaged_perceptron_tagger is already up-to-\n",
            "[nltk_data]       date!\n",
            "[nltk_data] Downloading package wordnet to /root/nltk_data...\n",
            "[nltk_data]   Package wordnet is already up-to-date!\n"
          ]
        }
      ],
      "source": [
        "import numpy as np\n",
        "import pandas as pd\n",
        "from sklearn.model_selection import train_test_split\n",
        "from sklearn.metrics import accuracy_score, recall_score, precision_score, f1_score\n",
        "from sklearn.ensemble import RandomForestClassifier\n",
        "from sklearn.linear_model import LogisticRegression\n",
        "import torch\n",
        "from transformers import TrainingArguments, Trainer\n",
        "from transformers import GPT2Model, GPT2Config, BertTokenizer, BertForSequenceClassification, RobertaTokenizer, RobertaForSequenceClassification, GPT2Tokenizer, GPT2ForSequenceClassification\n",
        "from transformers import EarlyStoppingCallback\n",
        "import nltk\n",
        "import preprocessor as p\n",
        "import time\n",
        "import language_tool_python\n",
        "import re\n",
        "import pickle\n",
        "nltk.download('averaged_perceptron_tagger')\n",
        "nltk.download('wordnet')\n",
        "tool = language_tool_python.LanguageTool('en-US')"
      ]
    },
    {
      "cell_type": "markdown",
      "source": [
        "Read in data"
      ],
      "metadata": {
        "id": "30-qiEddnyDU"
      }
    },
    {
      "cell_type": "code",
      "execution_count": null,
      "metadata": {
        "id": "TtmPmivUEuwx"
      },
      "outputs": [],
      "source": [
        "# read data\n",
        "data = pd.read_csv(\"train.csv\")"
      ]
    },
    {
      "cell_type": "markdown",
      "source": [
        "EDA"
      ],
      "metadata": {
        "id": "ahBFi27bn2oG"
      }
    },
    {
      "cell_type": "code",
      "execution_count": null,
      "metadata": {
        "colab": {
          "base_uri": "https://localhost:8080/"
        },
        "id": "MtBPT9p3g64w",
        "outputId": "bdbbb60c-da4f-4bc9-a423-a506157ef23f"
      },
      "outputs": [
        {
          "name": "stdout",
          "output_type": "stream",
          "text": [
            "87\n",
            "0.42528735632183906\n"
          ]
        }
      ],
      "source": [
        "# create new columns to identify which tweets contains 4+ consecutive letters\n",
        "\n",
        "data['3_consec_letters'] = [int(bool(re.search(\"([a-z\\\\d])\\\\1\\\\1\\\\1+\", tweet.lower()))) for tweet in data['text']]\n",
        "\n",
        "# how many of the tweets contain 4+ consecutive letters?\n",
        "\n",
        "tgts = data[data['3_consec_letters'].isin([1])]['target']\n",
        "print(len(tgts))\n",
        "\n",
        "# what percentage of these are about a disaster?\n",
        "\n",
        "print(np.sum(tgts)/len(tgts))"
      ]
    },
    {
      "cell_type": "code",
      "execution_count": null,
      "metadata": {
        "colab": {
          "background_save": true
        },
        "id": "TOGqPNiV-A2L"
      },
      "outputs": [],
      "source": [
        "# create a series with language tool matches (grammar suggestions) --> TAKES 30 OR SO MINUTES!!!\n",
        "\n",
        "language_tool = [tool.check(p.tokenize(tweet)) for tweet in data['text']]"
      ]
    },
    {
      "cell_type": "code",
      "execution_count": null,
      "metadata": {
        "colab": {
          "base_uri": "https://localhost:8080/"
        },
        "id": "K34q20wAyfPI",
        "outputId": "808b43bb-d0b8-4bd9-bd8b-5bc775760d6d"
      },
      "outputs": [
        {
          "data": {
            "text/plain": [
              "[[Match({'ruleId': 'MORFOLOGIK_RULE_EN_US', 'message': 'Possible spelling mistake found.', 'replacements': ['HASHTAG', 'HASHTAGS'], 'offsetInContext': 33, 'context': 'Our Deeds are the Reason of this $HASHTAG$ May ALLAH Forgive us all', 'offset': 33, 'errorLength': 9, 'category': 'TYPOS', 'ruleIssueType': 'misspelling', 'sentence': 'Our Deeds are the Reason of this $HASHTAG$ May ALLAH Forgive us all'})],\n",
              " [Match({'ruleId': 'MORFOLOGIK_RULE_EN_US', 'message': 'Possible spelling mistake found.', 'replacements': ['Range', 'Rouge', 'Congé'], 'offsetInContext': 20, 'context': 'Forest fire near La Ronge Sask. Canada', 'offset': 20, 'errorLength': 5, 'category': 'TYPOS', 'ruleIssueType': 'misspelling', 'sentence': 'Forest fire near La Ronge Sask.'})],\n",
              " [],\n",
              " [Match({'ruleId': 'MORFOLOGIK_RULE_EN_US', 'message': 'Possible spelling mistake found.', 'replacements': ['NUMBER', 'NUMBERS'], 'offsetInContext': 0, 'context': '$NUMBER$ people receive $HASHTAG$ evacuation ord...', 'offset': 0, 'errorLength': 8, 'category': 'TYPOS', 'ruleIssueType': 'misspelling', 'sentence': '$NUMBER$ people receive $HASHTAG$ evacuation orders in California'}),\n",
              "  Match({'ruleId': 'MORFOLOGIK_RULE_EN_US', 'message': 'Possible spelling mistake found.', 'replacements': ['HASHTAG', 'HASHTAGS'], 'offsetInContext': 24, 'context': '$NUMBER$ people receive $HASHTAG$ evacuation orders in California', 'offset': 24, 'errorLength': 9, 'category': 'TYPOS', 'ruleIssueType': 'misspelling', 'sentence': '$NUMBER$ people receive $HASHTAG$ evacuation orders in California'})]]"
            ]
          },
          "execution_count": 8,
          "metadata": {},
          "output_type": "execute_result"
        }
      ],
      "source": [
        "# pickle checkpoint for language_tool\n",
        "\n",
        "#pickle.dump(language_tool, open('language_tool.pickle', 'wb'))\n",
        "language_tool = pickle.load(open('language_tool.pickle', 'rb'))\n",
        "language_tool[:4]"
      ]
    },
    {
      "cell_type": "code",
      "execution_count": null,
      "metadata": {
        "colab": {
          "base_uri": "https://localhost:8080/"
        },
        "id": "c2kvVOahx9uJ",
        "outputId": "d3bc7269-03f6-4c0c-e50a-9ef16d654d50"
      },
      "outputs": [
        {
          "name": "stdout",
          "output_type": "stream",
          "text": [
            "[('I_LOWERCASE', 0.1724137931034483, 116), ('PROFANITY', 0.21893491124260356, 169), ('GONNA', 0.23076923076923078, 39), ('COMMA_COMPOUND_SENTENCE', 0.24064171122994651, 187), ('UPPERCASE_SENTENCE_START', 0.266384778012685, 473), ('EN_CONTRACTION_SPELLING', 0.23148148148148148, 108)]\n"
          ]
        }
      ],
      "source": [
        "# from the different rule ids in the language tool grammar check, \n",
        "# which are red flags that could possibly predict our target?\n",
        "\n",
        "ids = []\n",
        "for i in range(data.shape[0]):\n",
        "  for match in language_tool[i]:\n",
        "    ids.append(match.ruleId)\n",
        "\n",
        "ids = list(set(ids))\n",
        "\n",
        "percent_true = []\n",
        "totals = []\n",
        "\n",
        "for j in range(len(ids)):\n",
        "  true = 0\n",
        "  total = 0\n",
        "  for i in range(data.shape[0]):\n",
        "    for match in language_tool[i]:\n",
        "      if match.ruleId == ids[j]:\n",
        "        total += 1\n",
        "        true += data['target'][i]\n",
        "        break\n",
        "  if total > 0:\n",
        "    percent_true.append(true / total)\n",
        "    totals.append(total)\n",
        "  else:\n",
        "    percent_true.append(0)\n",
        "    totals.append(0)\n",
        "\n",
        "ids = list(zip(ids, percent_true, totals))\n",
        "\n",
        "red_flag_ids = []\n",
        "for id in ids:\n",
        "  if (id[1] < .3 or id[1] > .7) and id[2] > 30:\n",
        "    red_flag_ids.append(id)\n",
        "\n",
        "print(red_flag_ids)\n",
        "red_flag_ids = [id[0] for id in red_flag_ids]"
      ]
    },
    {
      "cell_type": "code",
      "execution_count": null,
      "metadata": {
        "colab": {
          "base_uri": "https://localhost:8080/"
        },
        "id": "ClE6is1P9MLJ",
        "outputId": "b2669471-c98b-4b1a-db81-ca49a503bf97"
      },
      "outputs": [
        {
          "name": "stdout",
          "output_type": "stream",
          "text": [
            "0.33406593406593404 455\n"
          ]
        }
      ],
      "source": [
        "# what percentage tweets that contain typographical errors (excluding UPPERCASE_SENTENCE_START) are about a disaster?\n",
        "\n",
        "true = 0\n",
        "total = 0\n",
        "for i in range(data.shape[0]):\n",
        "  for match in language_tool[i]:\n",
        "    if match.ruleIssueType == 'typographical' and match.ruleId != 'UPPERCASE_SENTENCE_START':\n",
        "      total += 1\n",
        "      true += data['target'][i]\n",
        "      break\n",
        "\n",
        "print(true/total, total)"
      ]
    },
    {
      "cell_type": "code",
      "execution_count": null,
      "metadata": {
        "id": "y3Jn1X4OCCfc"
      },
      "outputs": [],
      "source": [
        "# add columns to indicate presence of these grammar \"red flags\" in tweets\n",
        "\n",
        "for id in red_flag_ids:\n",
        "  data[id] = 0\n",
        "\n",
        "data['TYPOGRAPHICAL'] = 0\n",
        "\n",
        "for i in range(data.shape[0]):\n",
        "  for match in language_tool[i]:\n",
        "    if match.ruleIssueType == 'typographical' and match.ruleId != 'UPPERCASE_SENTENCE_START':\n",
        "      data['TYPOGRAPHICAL'][i] == 1\n",
        "  \n",
        "    for id in red_flag_ids:\n",
        "      if match.ruleId == id:\n",
        "        data[id][i] == 1"
      ]
    },
    {
      "cell_type": "code",
      "execution_count": null,
      "metadata": {
        "colab": {
          "base_uri": "https://localhost:8080/"
        },
        "id": "MmxylV6khipF",
        "outputId": "501e0aa8-71bd-4847-f4f7-910d65bf8218"
      },
      "outputs": [
        {
          "name": "stdout",
          "output_type": "stream",
          "text": [
            "[('Worldwide', 0.631578947368421, 19), ('Washington, DC', 0.7142857142857143, 21), ('London', 0.35555555555555557, 45), ('Mumbai', 0.8636363636363636, 22), ('Los Angeles, CA', 0.3076923076923077, 26), ('Kenya', 0.25, 20), ('USA', 0.6442307692307693, 104), ('Nigeria', 0.7857142857142857, 28), ('India', 0.8333333333333334, 24), ('New York', 0.22535211267605634, 71)]\n"
          ]
        }
      ],
      "source": [
        "# what cities are possible red flags in predicting if a tweet is about a disaster?\n",
        "\n",
        "percent_true = []\n",
        "totals = []\n",
        "locations = list(set(data['location']))\n",
        "\n",
        "for location in locations:\n",
        "  true = 0\n",
        "  total = 0\n",
        "  for i in range(data.shape[0]):\n",
        "    if data['location'][i] == location:\n",
        "      true += data['target'][i]\n",
        "      total += 1\n",
        "  if total > 0:\n",
        "    percent_true.append(true / total)\n",
        "    totals.append(total)\n",
        "  else:\n",
        "    percent_true.append(0)\n",
        "    totals.append(0)\n",
        "\n",
        "locations = list(zip(locations, percent_true, totals))\n",
        "\n",
        "red_flag_locations = []\n",
        "for location in locations:\n",
        "  if (location[1] < .4 or location[1] > .6) and location[2] > 15:\n",
        "    red_flag_locations.append(location)\n",
        "\n",
        "print(red_flag_locations)\n",
        "red_flag_locations = [location[0] for location in red_flag_locations]"
      ]
    },
    {
      "cell_type": "code",
      "execution_count": null,
      "metadata": {
        "colab": {
          "base_uri": "https://localhost:8080/"
        },
        "id": "ONJ_4GZA6Wu7",
        "outputId": "ed0660ae-94fb-42f6-8f85-884ba6ddc62d"
      },
      "outputs": [
        {
          "name": "stdout",
          "output_type": "stream",
          "text": [
            "[('explode', 0.07894736842105263, 38), ('survived', 0.30303030303030304, 33), ('twister', 0.125, 40), ('typhoon', 0.9736842105263158, 38), ('harm', 0.0975609756097561, 41), ('outbreak', 0.975, 40), ('evacuation', 0.7777777777777778, 36), ('debris', 1.0, 37), ('collide', 0.08823529411764706, 34), ('bleeding', 0.14285714285714285, 35), ('attack', 0.6944444444444444, 36), ('stretcher', 0.09090909090909091, 33), ('screams', 0.14285714285714285, 35), ('mudslide', 0.32432432432432434, 37), ('injured', 0.6857142857142857, 35), ('massacre', 0.6944444444444444, 36), ('collision', 0.7435897435897436, 39), ('battle', 0.19230769230769232, 26), ('drown', 0.09375, 32), ('upheaval', 0.15789473684210525, 38), ('detonation', 0.28125, 32), ('bush%20fires', 0.72, 25), ('thunderstorm', 0.7878787878787878, 33), ('obliterated', 0.12903225806451613, 31), ('demolition', 0.2571428571428571, 35), ('wreck', 0.1891891891891892, 37), ('arson', 0.6875, 32), ('drowning', 0.2647058823529412, 34), ('evacuated', 0.8888888888888888, 36), ('crushed', 0.12903225806451613, 31), ('lava', 0.14705882352941177, 34), ('derailed', 0.6842105263157895, 38), ('traumatised', 0.05714285714285714, 35), ('oil%20spill', 0.9736842105263158, 38), ('deluged', 0.25925925925925924, 27), ('bridge%20collapse', 0.8285714285714286, 35), ('emergency%20services', 0.3333333333333333, 33), ('blizzard', 0.10810810810810811, 37), ('demolished', 0.25, 28), ('earthquake', 0.7692307692307693, 39), ('blood', 0.14285714285714285, 35), ('destroyed', 0.25, 32), ('buildings%20burning', 0.6857142857142857, 35), ('suicide%20bomb', 0.9142857142857143, 35), ('exploded', 0.2727272727272727, 33), ('deluge', 0.14285714285714285, 42), ('inundated', 0.17142857142857143, 35), ('siren', 0.125, 40), ('trapped', 0.28125, 32), ('terrorism', 0.7058823529411765, 34), ('demolish', 0.14705882352941177, 34), ('dust%20storm', 0.6666666666666666, 36), ('suicide%20bombing', 0.9696969696969697, 33), ('deaths', 0.6842105263157895, 38), ('derailment', 1.0, 39), ('body%20bag', 0.030303030303030304, 33), ('military', 0.23529411764705882, 34), ('hellfire', 0.1794871794871795, 39), ('fear', 0.125, 40), ('desolate', 0.2413793103448276, 29), ('fatal', 0.6842105263157895, 38), ('survivors', 0.7, 30), ('screamed', 0.11764705882352941, 34), ('nuclear%20disaster', 0.9117647058823529, 34), ('wrecked', 0.07692307692307693, 39), ('sunk', 0.23076923076923078, 39), ('flames', 0.3333333333333333, 39), ('sinking', 0.1951219512195122, 41), ('burning', 0.29411764705882354, 34), ('hostages', 0.7297297297297297, 37), ('trouble', 0.15151515151515152, 33), ('apocalypse', 0.28125, 32), ('obliteration', 0.13793103448275862, 29), ('injuries', 0.2727272727272727, 33), ('fire%20truck', 0.6666666666666666, 33), ('floods', 0.7222222222222222, 36), ('panic', 0.08108108108108109, 37), ('detonate', 0.2777777777777778, 36), ('blazing', 0.029411764705882353, 34), ('quarantine', 0.14705882352941177, 34), ('curfew', 0.13513513513513514, 37), ('devastation', 0.75, 36), ('panicking', 0.06060606060606061, 33), ('fatality', 0.2702702702702703, 37), ('razed', 0.8857142857142857, 35), ('fire', 0.2894736842105263, 38), ('body%20bagging', 0.15151515151515152, 33), ('thunder', 0.3157894736842105, 38), ('hailstorm', 0.75, 32), ('wreckage', 1.0, 39), ('sinkhole', 0.6923076923076923, 39), ('injury', 0.2894736842105263, 38), ('wild%20fires', 0.8709677419354839, 31), ('death', 0.25, 36), ('cliff%20fall', 0.2222222222222222, 36), ('destroy', 0.24324324324324326, 37), ('casualties', 0.8, 35), ('armageddon', 0.11904761904761904, 42), ('catastrophe', 0.19444444444444445, 36), ('aftershock', 0.0, 34), ('wounds', 0.30303030303030304, 33), ('tsunami', 0.3235294117647059, 34), ('screaming', 0.05555555555555555, 36), ('hazard', 0.20588235294117646, 34), ('survive', 0.15625, 32), ('displaced', 0.7222222222222222, 36), ('volcano', 0.6666666666666666, 27), ('army', 0.14705882352941177, 34), ('desolation', 0.19444444444444445, 36), ('war%20zone', 0.2916666666666667, 24), ('wounded', 0.7027027027027027, 37), ('bioterrorism', 0.7, 30), ('suicide%20bomber', 0.967741935483871, 31), ('burned', 0.21212121212121213, 33), ('rescuers', 0.9142857142857143, 35), ('terrorist', 0.7419354838709677, 31), ('body%20bags', 0.024390243902439025, 41), ('bombing', 0.9310344827586207, 29), ('meltdown', 0.15151515151515152, 33), ('dead', 0.23333333333333334, 30), ('annihilated', 0.3235294117647059, 34), ('arsonist', 0.23529411764705882, 34), ('wildfire', 0.8787878787878788, 33), ('accident', 0.6857142857142857, 35), ('drought', 0.8, 35), ('flattened', 0.14705882352941177, 34), ('mayhem', 0.1, 30), ('riot', 0.17647058823529413, 34), ('blaze', 0.13157894736842105, 38), ('catastrophic', 0.6666666666666666, 30), ('bloody', 0.08571428571428572, 35), ('electrocute', 0.03125, 32), ('avalanche', 0.13333333333333333, 30), ('rescue', 0.22727272727272727, 22), ('danger', 0.2222222222222222, 36), ('famine', 0.6666666666666666, 39), ('sirens', 0.2413793103448276, 29), ('sandstorm', 0.7567567567567568, 37), ('violent%20storm', 0.7878787878787878, 33), ('obliterate', 0.12903225806451613, 31), ('forest%20fires', 0.84375, 32), ('buildings%20on%20fire', 0.8484848484848485, 33), ('airplane%20accident', 0.8571428571428571, 35), ('loud%20bang', 0.20588235294117646, 34), ('pandemonium', 0.21621621621621623, 37), ('ruin', 0.02702702702702703, 37), ('mass%20murder', 0.8484848484848485, 33), ('heat%20wave', 0.7352941176470589, 34), ('blown%20up', 0.15151515151515152, 33), ('blew%20up', 0.06060606060606061, 33), ('smoke', 0.08823529411764706, 34), ('blight', 0.0625, 32), ('crush', 0.10810810810810811, 37), ('destruction', 0.17647058823529413, 34)]\n"
          ]
        }
      ],
      "source": [
        "# what keywords are possible red flags in predicting if a tweet is about a disaster?\n",
        "\n",
        "percent_true = []\n",
        "totals = []\n",
        "keywords = list(set(data['keyword']))\n",
        "\n",
        "for keyword in keywords:\n",
        "  true = 0\n",
        "  total = 0\n",
        "  for i in range(data.shape[0]):\n",
        "    if data['keyword'][i] == keyword:\n",
        "      true += data['target'][i]\n",
        "      total += 1\n",
        "  if total > 0:\n",
        "    percent_true.append(true / total)\n",
        "    totals.append(total)\n",
        "  else:\n",
        "    percent_true.append(0)\n",
        "    totals.append(0)\n",
        "\n",
        "keywords = list(zip(keywords, percent_true, totals))\n",
        "\n",
        "red_flag_keywords = []\n",
        "for keyword in keywords:\n",
        "  if (keyword[1] < .34 or keyword[1] > .66) and keyword[2] > 20:\n",
        "    red_flag_keywords.append(keyword)\n",
        "\n",
        "print(red_flag_keywords)\n",
        "red_flag_keywords = [keyword[0] for keyword in red_flag_keywords]"
      ]
    },
    {
      "cell_type": "code",
      "execution_count": null,
      "metadata": {
        "id": "HebVwUhc5WZc"
      },
      "outputs": [],
      "source": [
        "# create columns for red flag locations and columns\n",
        "\n",
        "for location in red_flag_locations:\n",
        "  data[location] = 0\n",
        "\n",
        "for keyword in red_flag_keywords:\n",
        "  data[keyword] = 0\n",
        "\n",
        "for i in range(data.shape[0]):\n",
        "  for location in red_flag_locations:\n",
        "    if data['location'][i] == location:\n",
        "      data[location][i] == 1\n",
        "  for keyword in red_flag_keywords:\n",
        "    if data['keyword'][i] == keyword:\n",
        "      data[keyword][i] == 1"
      ]
    },
    {
      "cell_type": "markdown",
      "source": [
        "Preprocess the data"
      ],
      "metadata": {
        "id": "IeV_epheoMn_"
      }
    },
    {
      "cell_type": "code",
      "execution_count": null,
      "metadata": {
        "id": "Za8JsITdZKYA"
      },
      "outputs": [],
      "source": [
        "# tokenize tweets\n",
        "\n",
        "data['text'] = [p.tokenize(tweet) for tweet in data['text']]"
      ]
    },
    {
      "cell_type": "code",
      "execution_count": null,
      "metadata": {
        "colab": {
          "base_uri": "https://localhost:8080/",
          "height": 282,
          "referenced_widgets": [
            "4fe9558a4d474570bc57913c2b86f30d",
            "dcc68ca5cf1344538e3147efa88b8f2f",
            "ddf2522310694938ba6ccb8a0de22c32",
            "67bffdbd2ae043a3abc1eea4f8a96bd9",
            "44a67cbe7d314084be49af547693c686",
            "de7882c161bc4a0abb731a0a97ff0b8a",
            "e0ce0bd9c4c14933ab125e71cf138578",
            "8a0563a638e24429a03f0a6f30ae3fab",
            "c2b53f28def341e6b6a17d66c704ad93",
            "bb1a478eeab5444d81344a1e56f438a2",
            "f70b6cb2ce774081b1adbc8d9c8226e3",
            "a1e407141dfb46c0a6db451b57774024",
            "f01d21bd4b384e198b616d1795f4dc24",
            "3cc8d553f3aa4ea6b9f871eab1ed80a8",
            "81358c7e264241839a56e2ef01f1e667",
            "96740095ee6d40a494996ef6f0d0538e",
            "fbd2e26757144e42a057254579b771e4",
            "527c9eb3c4bd48f08128e620e2fa8d66",
            "c06869c26a7c426189d1170d68eabdd9",
            "71d3cb93f32b41ff950a53c1258b0bd0",
            "60716695a7e148409c40ef6d2c6c4501",
            "fba3c374f4504c6e8d7e809928bca1c8",
            "0e3d6b4eb7714245969a91ed45216237",
            "d2553e990ead4ea391223a03e5c35e19",
            "3077ee26150f448e8e29c72392d5fae7",
            "ed62e8e5fca548a48d186fb46ff53a10",
            "f1e2f18ec9f44a979447af0b5c697c28",
            "cef2bc1dfbf043059dc0365b5fdec470",
            "099d5383f4d14f759034d7ce5dbfd0d0",
            "419b1a3f7e70424bb27b2b73250a1e00",
            "5a4743c6952b4e7c8859e9fb9635cc5e",
            "ad0a0ac5b006498b9c15a05cc4bdfba5",
            "8d7192c525434d66823b1e965c1b207b",
            "e4853f3a372748aaaa4858a3ff55665d",
            "6ec6a3e57ad14efea202d5589298222e",
            "7494cc2532384ab1b87bf53365e33126",
            "c5654cbbd223436183a731c0d936f062",
            "e9c23c47a5fa40faa8a295b17cc91948",
            "7ce75a0b7a1a4a2b9bb526e5513b3653",
            "8f78b969f2fe4bffa6087b14260fd49b",
            "aa1a25a23e404bc4816745b93288761f",
            "1426d6dd459741b58927e22e3c9fe7ed",
            "cbdceef8dbc14eef8e2b525e09539a18",
            "fe210a1c503148eb986799d5f5d3672d",
            "5b5c7b5d29f247fbab5465db80743610",
            "1abae0e8cb00411ab1fbed38ab89de62",
            "267eb0075a3d40098e311ea78860f948",
            "dbc58e7a89844d4085f660d9c6b1cc83",
            "b1c4f10240224d08b5b9a7bf3b263fee",
            "472eee7695b349898a74c970bbbba224",
            "d3bd48869ee34d59b96391db0b477c24",
            "b33dec134e4143d6a1380812ab028ad7",
            "7f74f4f4c4a64211ab8befe5dde707a1",
            "a7061211c296428dba9d04ef1f54bc85",
            "6971ce600c9f4e7b87f11739c5e6393d"
          ]
        },
        "id": "RhLaf2wpGjwK",
        "outputId": "f8a20e70-0516-489f-9b37-ecea3f460e16"
      },
      "outputs": [
        {
          "data": {
            "application/vnd.jupyter.widget-view+json": {
              "model_id": "4fe9558a4d474570bc57913c2b86f30d",
              "version_major": 2,
              "version_minor": 0
            },
            "text/plain": [
              "Downloading:   0%|          | 0.00/226k [00:00<?, ?B/s]"
            ]
          },
          "metadata": {},
          "output_type": "display_data"
        },
        {
          "data": {
            "application/vnd.jupyter.widget-view+json": {
              "model_id": "a1e407141dfb46c0a6db451b57774024",
              "version_major": 2,
              "version_minor": 0
            },
            "text/plain": [
              "Downloading:   0%|          | 0.00/28.0 [00:00<?, ?B/s]"
            ]
          },
          "metadata": {},
          "output_type": "display_data"
        },
        {
          "data": {
            "application/vnd.jupyter.widget-view+json": {
              "model_id": "0e3d6b4eb7714245969a91ed45216237",
              "version_major": 2,
              "version_minor": 0
            },
            "text/plain": [
              "Downloading:   0%|          | 0.00/455k [00:00<?, ?B/s]"
            ]
          },
          "metadata": {},
          "output_type": "display_data"
        },
        {
          "data": {
            "application/vnd.jupyter.widget-view+json": {
              "model_id": "e4853f3a372748aaaa4858a3ff55665d",
              "version_major": 2,
              "version_minor": 0
            },
            "text/plain": [
              "Downloading:   0%|          | 0.00/570 [00:00<?, ?B/s]"
            ]
          },
          "metadata": {},
          "output_type": "display_data"
        },
        {
          "data": {
            "application/vnd.jupyter.widget-view+json": {
              "model_id": "5b5c7b5d29f247fbab5465db80743610",
              "version_major": 2,
              "version_minor": 0
            },
            "text/plain": [
              "Downloading:   0%|          | 0.00/420M [00:00<?, ?B/s]"
            ]
          },
          "metadata": {},
          "output_type": "display_data"
        },
        {
          "name": "stderr",
          "output_type": "stream",
          "text": [
            "Some weights of the model checkpoint at bert-base-uncased were not used when initializing BertForSequenceClassification: ['cls.seq_relationship.weight', 'cls.predictions.transform.dense.bias', 'cls.predictions.decoder.weight', 'cls.predictions.transform.LayerNorm.bias', 'cls.predictions.bias', 'cls.predictions.transform.dense.weight', 'cls.predictions.transform.LayerNorm.weight', 'cls.seq_relationship.bias']\n",
            "- This IS expected if you are initializing BertForSequenceClassification from the checkpoint of a model trained on another task or with another architecture (e.g. initializing a BertForSequenceClassification model from a BertForPreTraining model).\n",
            "- This IS NOT expected if you are initializing BertForSequenceClassification from the checkpoint of a model that you expect to be exactly identical (initializing a BertForSequenceClassification model from a BertForSequenceClassification model).\n",
            "Some weights of BertForSequenceClassification were not initialized from the model checkpoint at bert-base-uncased and are newly initialized: ['classifier.weight', 'classifier.bias']\n",
            "You should probably TRAIN this model on a down-stream task to be able to use it for predictions and inference.\n"
          ]
        }
      ],
      "source": [
        "# define pretrained tokenizer and model\n",
        "\n",
        "model_name = \"bert-base-uncased\"\n",
        "tokenizer = BertTokenizer.from_pretrained(model_name)\n",
        "model = BertForSequenceClassification.from_pretrained(model_name, num_labels=2)\n",
        "\n",
        "# train/dev/split\n",
        "\n",
        "X = list(data[\"text\"])\n",
        "y = list(data[\"target\"])\n",
        "X_train, X_val, y_train, y_val = train_test_split(X, y, test_size=0.2)\n",
        "X_train_tokenized = tokenizer(X_train, padding=True, truncation=True, max_length=512)\n",
        "X_val_tokenized = tokenizer(X_val, padding=True, truncation=True, max_length=512)\n",
        "\n",
        "# create torch dataset\n",
        "class Dataset(torch.utils.data.Dataset):\n",
        "    def __init__(self, encodings, labels=None):\n",
        "        self.encodings = encodings\n",
        "        self.labels = labels\n",
        "\n",
        "    def __getitem__(self, idx):\n",
        "        item = {key: torch.tensor(val[idx]) for key, val in self.encodings.items()}\n",
        "        if self.labels:\n",
        "            item[\"labels\"] = torch.tensor(self.labels[idx])\n",
        "        return item\n",
        "\n",
        "    def __len__(self):\n",
        "        return len(self.encodings[\"input_ids\"])\n",
        "\n",
        "train_dataset = Dataset(X_train_tokenized, y_train)\n",
        "val_dataset = Dataset(X_val_tokenized, y_val)"
      ]
    },
    {
      "cell_type": "markdown",
      "source": [
        "Train the Bert model"
      ],
      "metadata": {
        "id": "0_0CP5wFoSrl"
      }
    },
    {
      "cell_type": "code",
      "execution_count": null,
      "metadata": {
        "colab": {
          "background_save": true,
          "base_uri": "https://localhost:8080/",
          "height": 916
        },
        "id": "yjQDDRUHH130",
        "outputId": "18b3e88a-f914-4130-b129-94a83c84e808"
      },
      "outputs": [
        {
          "name": "stderr",
          "output_type": "stream",
          "text": [
            "PyTorch: setting up devices\n",
            "The default value for the training argument `--report_to` will change in v5 (from all installed integrations to none). In v5, you will need to use `--report_to all` to get the same behavior as now. You should start updating your code and make this info disappear :-).\n",
            "***** Running training *****\n",
            "  Num examples = 6090\n",
            "  Num Epochs = 3\n",
            "  Instantaneous batch size per device = 8\n",
            "  Total train batch size (w. parallel, distributed & accumulation) = 8\n",
            "  Gradient Accumulation steps = 1\n",
            "  Total optimization steps = 2286\n"
          ]
        },
        {
          "data": {
            "text/html": [
              "\n",
              "    <div>\n",
              "      \n",
              "      <progress value='2000' max='2286' style='width:300px; height:20px; vertical-align: middle;'></progress>\n",
              "      [2000/2286 10:48 < 01:32, 3.08 it/s, Epoch 2/3]\n",
              "    </div>\n",
              "    <table border=\"1\" class=\"dataframe\">\n",
              "  <thead>\n",
              "    <tr style=\"text-align: left;\">\n",
              "      <th>Step</th>\n",
              "      <th>Training Loss</th>\n",
              "      <th>Validation Loss</th>\n",
              "      <th>Accuracy</th>\n",
              "      <th>Precision</th>\n",
              "      <th>Recall</th>\n",
              "      <th>F1</th>\n",
              "    </tr>\n",
              "  </thead>\n",
              "  <tbody>\n",
              "    <tr>\n",
              "      <td>500</td>\n",
              "      <td>0.498000</td>\n",
              "      <td>0.457869</td>\n",
              "      <td>0.812869</td>\n",
              "      <td>0.775000</td>\n",
              "      <td>0.778650</td>\n",
              "      <td>0.776821</td>\n",
              "    </tr>\n",
              "    <tr>\n",
              "      <td>1000</td>\n",
              "      <td>0.398100</td>\n",
              "      <td>0.565744</td>\n",
              "      <td>0.810900</td>\n",
              "      <td>0.778309</td>\n",
              "      <td>0.766091</td>\n",
              "      <td>0.772152</td>\n",
              "    </tr>\n",
              "    <tr>\n",
              "      <td>1500</td>\n",
              "      <td>0.353100</td>\n",
              "      <td>0.485313</td>\n",
              "      <td>0.822718</td>\n",
              "      <td>0.791733</td>\n",
              "      <td>0.781790</td>\n",
              "      <td>0.786730</td>\n",
              "    </tr>\n",
              "    <tr>\n",
              "      <td>2000</td>\n",
              "      <td>0.227600</td>\n",
              "      <td>0.737413</td>\n",
              "      <td>0.824688</td>\n",
              "      <td>0.789969</td>\n",
              "      <td>0.791209</td>\n",
              "      <td>0.790588</td>\n",
              "    </tr>\n",
              "  </tbody>\n",
              "</table><p>"
            ],
            "text/plain": [
              "<IPython.core.display.HTML object>"
            ]
          },
          "metadata": {},
          "output_type": "display_data"
        },
        {
          "name": "stderr",
          "output_type": "stream",
          "text": [
            "***** Running Evaluation *****\n",
            "  Num examples = 1523\n",
            "  Batch size = 8\n",
            "Saving model checkpoint to output/checkpoint-500\n",
            "Configuration saved in output/checkpoint-500/config.json\n",
            "Model weights saved in output/checkpoint-500/pytorch_model.bin\n",
            "***** Running Evaluation *****\n",
            "  Num examples = 1523\n",
            "  Batch size = 8\n",
            "Saving model checkpoint to output/checkpoint-1000\n",
            "Configuration saved in output/checkpoint-1000/config.json\n",
            "Model weights saved in output/checkpoint-1000/pytorch_model.bin\n",
            "***** Running Evaluation *****\n",
            "  Num examples = 1523\n",
            "  Batch size = 8\n",
            "Saving model checkpoint to output/checkpoint-1500\n",
            "Configuration saved in output/checkpoint-1500/config.json\n",
            "Model weights saved in output/checkpoint-1500/pytorch_model.bin\n",
            "***** Running Evaluation *****\n",
            "  Num examples = 1523\n",
            "  Batch size = 8\n",
            "Saving model checkpoint to output/checkpoint-2000\n",
            "Configuration saved in output/checkpoint-2000/config.json\n",
            "Model weights saved in output/checkpoint-2000/pytorch_model.bin\n",
            "\n",
            "\n",
            "Training completed. Do not forget to share your model on huggingface.co/models =)\n",
            "\n",
            "\n",
            "Loading best model from output/checkpoint-500 (score: 0.45786938071250916).\n",
            "Configuration saved in twitter_bert_disaster/config.json\n",
            "Model weights saved in twitter_bert_disaster/pytorch_model.bin\n"
          ]
        }
      ],
      "source": [
        "# define Trainer parameters\n",
        "def compute_metrics(p):\n",
        "    pred, labels = p\n",
        "    pred = np.argmax(pred, axis=1)\n",
        "\n",
        "    accuracy = accuracy_score(y_true=labels, y_pred=pred)\n",
        "    recall = recall_score(y_true=labels, y_pred=pred)\n",
        "    precision = precision_score(y_true=labels, y_pred=pred)\n",
        "    f1 = f1_score(y_true=labels, y_pred=pred)\n",
        "\n",
        "    return {\"accuracy\": accuracy, \"precision\": precision, \"recall\": recall, \"f1\": f1}\n",
        "\n",
        "# define Trainer\n",
        "args = TrainingArguments(\n",
        "    output_dir=\"output\",\n",
        "    evaluation_strategy=\"steps\",\n",
        "    eval_steps=500,\n",
        "    per_device_train_batch_size=8,\n",
        "    per_device_eval_batch_size=8,\n",
        "    num_train_epochs=3,\n",
        "    seed=0,\n",
        "    learning_rate=8e-05,\n",
        "    metric_for_best_model='f1',\n",
        "    load_best_model_at_end=True,\n",
        ")\n",
        "trainer = Trainer(\n",
        "    model=model,\n",
        "    args=args,\n",
        "    train_dataset=train_dataset,\n",
        "    eval_dataset=val_dataset,\n",
        "    compute_metrics=compute_metrics,\n",
        "    callbacks=[EarlyStoppingCallback(early_stopping_patience=3)],\n",
        ")\n",
        "\n",
        "# train pre-trained model\n",
        "trainer.train()\n",
        "\n",
        "model_path = \"twitter_bert_disaster\"\n",
        "model.save_pretrained(model_path)"
      ]
    },
    {
      "cell_type": "markdown",
      "source": [
        "Create Predictions"
      ],
      "metadata": {
        "id": "fELHLMkToYkO"
      }
    },
    {
      "cell_type": "code",
      "execution_count": null,
      "metadata": {
        "colab": {
          "base_uri": "https://localhost:8080/",
          "height": 737
        },
        "id": "mGQTGybZZ1m1",
        "outputId": "5739c504-75b9-4a55-e6a0-e03778c43b5f"
      },
      "outputs": [
        {
          "name": "stderr",
          "output_type": "stream",
          "text": [
            "loading configuration file twitter_bert_disaster/config.json\n",
            "Model config BertConfig {\n",
            "  \"_name_or_path\": \"bert-base-uncased\",\n",
            "  \"architectures\": [\n",
            "    \"BertForSequenceClassification\"\n",
            "  ],\n",
            "  \"attention_probs_dropout_prob\": 0.1,\n",
            "  \"classifier_dropout\": null,\n",
            "  \"gradient_checkpointing\": false,\n",
            "  \"hidden_act\": \"gelu\",\n",
            "  \"hidden_dropout_prob\": 0.1,\n",
            "  \"hidden_size\": 768,\n",
            "  \"initializer_range\": 0.02,\n",
            "  \"intermediate_size\": 3072,\n",
            "  \"layer_norm_eps\": 1e-12,\n",
            "  \"max_position_embeddings\": 512,\n",
            "  \"model_type\": \"bert\",\n",
            "  \"num_attention_heads\": 12,\n",
            "  \"num_hidden_layers\": 12,\n",
            "  \"pad_token_id\": 0,\n",
            "  \"position_embedding_type\": \"absolute\",\n",
            "  \"problem_type\": \"single_label_classification\",\n",
            "  \"torch_dtype\": \"float32\",\n",
            "  \"transformers_version\": \"4.13.0\",\n",
            "  \"type_vocab_size\": 2,\n",
            "  \"use_cache\": true,\n",
            "  \"vocab_size\": 30522\n",
            "}\n",
            "\n",
            "loading weights file twitter_bert_disaster/pytorch_model.bin\n",
            "All model checkpoint weights were used when initializing BertForSequenceClassification.\n",
            "\n",
            "All the weights of BertForSequenceClassification were initialized from the model checkpoint at twitter_bert_disaster.\n",
            "If your task is similar to the task the model of the checkpoint was trained on, you can already use BertForSequenceClassification for predictions without further training.\n",
            "No `TrainingArguments` passed, using `output_dir=tmp_trainer`.\n",
            "PyTorch: setting up devices\n",
            "The default value for the training argument `--report_to` will change in v5 (from all installed integrations to none). In v5, you will need to use `--report_to all` to get the same behavior as now. You should start updating your code and make this info disappear :-).\n",
            "***** Running Prediction *****\n",
            "  Num examples = 7613\n",
            "  Batch size = 8\n"
          ]
        },
        {
          "data": {
            "text/html": [
              "\n",
              "    <div>\n",
              "      \n",
              "      <progress value='952' max='952' style='width:300px; height:20px; vertical-align: middle;'></progress>\n",
              "      [952/952 01:24]\n",
              "    </div>\n",
              "    "
            ],
            "text/plain": [
              "<IPython.core.display.HTML object>"
            ]
          },
          "metadata": {},
          "output_type": "display_data"
        }
      ],
      "source": [
        "# generate predictions for tweets in training set\n",
        "\n",
        "X_train = X\n",
        "X_train_tokenized = tokenizer(X_train, padding=True, truncation=True, max_length=512)\n",
        "\n",
        "# create torch dataset\n",
        "\n",
        "train_dataset = Dataset(X_train_tokenized)\n",
        "\n",
        "# load trained model\n",
        "\n",
        "model_path = \"twitter_bert_disaster\"\n",
        "model = BertForSequenceClassification.from_pretrained(model_path, num_labels=2)\n",
        "\n",
        "# define test trainer\n",
        "\n",
        "train_trainer = Trainer(model)\n",
        "\n",
        "# make prediction\n",
        "\n",
        "raw_train_pred, _, _ = train_trainer.predict(train_dataset)\n",
        "\n",
        "# preprocess raw predictions\n",
        "\n",
        "data['bert_pred'] = np.argmax(raw_train_pred, axis=1)"
      ]
    },
    {
      "cell_type": "markdown",
      "source": [
        "Fit more models with the Bert guesses"
      ],
      "metadata": {
        "id": "6d6-QXIvog_R"
      }
    },
    {
      "cell_type": "code",
      "execution_count": null,
      "metadata": {
        "colab": {
          "base_uri": "https://localhost:8080/"
        },
        "id": "YPxo25eRji_Q",
        "outputId": "289ede56-d730-4155-ab29-99f2fe246d2b"
      },
      "outputs": [
        {
          "data": {
            "text/plain": [
              "LogisticRegression()"
            ]
          },
          "execution_count": 24,
          "metadata": {},
          "output_type": "execute_result"
        }
      ],
      "source": [
        "# fit three models from previous predictions + other numeric columns.\n",
        "\n",
        "X_train, X_test, y_train, y_test = train_test_split(data.drop(columns = ['id', 'keyword', 'location', 'text', 'target'], axis = 1), data['target'], test_size=0.33, random_state=42)\n",
        "\n",
        "rf1 = RandomForestClassifier(max_depth=9, random_state=42)\n",
        "rf1.fit(X_train, y_train)\n",
        "\n",
        "rf2 = RandomForestClassifier(max_depth=8, random_state=0)\n",
        "rf2.fit(X_train, y_train)\n",
        "\n",
        "reg = LogisticRegression()\n",
        "reg.fit(X_train, y_train)"
      ]
    },
    {
      "cell_type": "code",
      "execution_count": null,
      "metadata": {
        "id": "wVBRbj9wNV1O"
      },
      "outputs": [],
      "source": [
        "# load test data\n",
        "\n",
        "test_data = pd.read_csv(\"test.csv\")"
      ]
    },
    {
      "cell_type": "code",
      "execution_count": null,
      "metadata": {
        "id": "aHEr5-M2Na44"
      },
      "outputs": [],
      "source": [
        "# create 3 consecutive letters column\n",
        "\n",
        "test_data['3_consec_letters'] = [int(bool(re.search(\"([a-z\\\\d])\\\\1\\\\1\\\\1+\", tweet.lower()))) for tweet in test_data['text']]"
      ]
    },
    {
      "cell_type": "code",
      "execution_count": null,
      "metadata": {
        "colab": {
          "background_save": true
        },
        "id": "ONUNqLUCNbTh"
      },
      "outputs": [],
      "source": [
        "# create language tool list --> TAKES AROUND 30 MINUTES\n",
        "\n",
        "language_tool = [tool.check(p.tokenize(tweet)) for tweet in test_data['text']]"
      ]
    },
    {
      "cell_type": "code",
      "execution_count": null,
      "metadata": {
        "id": "UTuIIW1H3zpo"
      },
      "outputs": [],
      "source": [
        "# pickle checkpoint for new language_tool list\n",
        "\n",
        "#pickle.dump(language_tool, open('language_tool2.pickle', 'wb'))\n",
        "language_tool = pickle.load(open('language_tool2.pickle', 'rb'))\n",
        "language_tool[:4]"
      ]
    },
    {
      "cell_type": "code",
      "execution_count": null,
      "metadata": {
        "id": "XIK1vVZ_N75u"
      },
      "outputs": [],
      "source": [
        "# add language tool \"red flag\" indicators to dataframe\n",
        "\n",
        "for id in red_flag_ids:\n",
        "  test_data[id] = 0\n",
        "\n",
        "test_data['TYPOGRAPHICAL'] = 0\n",
        "\n",
        "for i in range(test_data.shape[0]):\n",
        "  for match in language_tool[i]:\n",
        "    if match.ruleIssueType == 'typographical' and match.ruleId != 'UPPERCASE_SENTENCE_START':\n",
        "      test_data['TYPOGRAPHICAL'][i] == 1\n",
        "  \n",
        "    for id in red_flag_ids:\n",
        "      if match.ruleId == id:\n",
        "        test_data[id][i] == 1"
      ]
    },
    {
      "cell_type": "code",
      "execution_count": null,
      "metadata": {
        "id": "FP0F4HtXN7-e"
      },
      "outputs": [],
      "source": [
        "# add location & keyword \"red flag\" indicators to dataframe\n",
        "\n",
        "for location in red_flag_locations:\n",
        "  test_data[location] = 0\n",
        "\n",
        "for keyword in red_flag_keywords:\n",
        "  test_data[keyword] = 0\n",
        "\n",
        "for i in range(test_data.shape[0]):\n",
        "  for location in red_flag_locations:\n",
        "    if test_data['location'][i] == location:\n",
        "      test_data[location][i] == 1\n",
        "  for keyword in red_flag_keywords:\n",
        "    if test_data['keyword'][i] == keyword:\n",
        "      test_data[keyword][i] == 1"
      ]
    },
    {
      "cell_type": "code",
      "execution_count": null,
      "metadata": {
        "id": "w-g5BpHmN8DA"
      },
      "outputs": [],
      "source": [
        "# tokenize tweets\n",
        "\n",
        "test_data['text'] = [p.tokenize(tweet) for tweet in test_data['text']]"
      ]
    },
    {
      "cell_type": "code",
      "execution_count": null,
      "metadata": {
        "id": "2rfd3RLLH5dy"
      },
      "outputs": [],
      "source": [
        "# prepare data for fine-tuned bert predictions\n",
        "\n",
        "X_test = list(test_data[\"text\"])\n",
        "X_test_tokenized = tokenizer(X_test, padding=True, truncation=True, max_length=512)\n",
        "\n",
        "# create torch dataset\n",
        "\n",
        "test_dataset = Dataset(X_test_tokenized)\n",
        "\n",
        "# load trained model\n",
        "\n",
        "model_path = \"twitter_bert_disaster\"\n",
        "model = BertForSequenceClassification.from_pretrained(model_path, num_labels=2)\n",
        "\n",
        "# define test trainer\n",
        "\n",
        "test_trainer = Trainer(model)\n",
        "\n",
        "# make prediction\n",
        "\n",
        "raw_pred, _, _ = test_trainer.predict(test_dataset)\n",
        "\n",
        "# preprocess raw predictions\n",
        "\n",
        "test_data['bert_pred'] = np.argmax(raw_pred, axis=1)"
      ]
    },
    {
      "cell_type": "code",
      "execution_count": null,
      "metadata": {
        "id": "HoB3tYXbQCG3"
      },
      "outputs": [],
      "source": [
        "# make final predictions from bagging three models fit to the bert predictions and other columns\n",
        "\n",
        "Xtest = test_data.drop(columns = ['id', 'keyword', 'location', 'text', 'target'], axis = 1)\n",
        "\n",
        "test_data['target'] = [int(round(x)) for x in list((rf1.predict(Xtest) + rf2.predict(Xtest) + reg.predict(Xtest))/3)]"
      ]
    },
    {
      "cell_type": "code",
      "execution_count": null,
      "metadata": {
        "id": "PsNit9VDS5FZ"
      },
      "outputs": [],
      "source": [
        "# send to csv to submit to kaggle\n",
        "\n",
        "test_data.loc[:,['id', 'target']].to_csv('twitter_disaster_predictions.csv', index = False)"
      ]
    }
  ],
  "metadata": {
    "accelerator": "GPU",
    "colab": {
      "collapsed_sections": [],
      "name": "Twitter_Disaster_Prediction.ipynb",
      "provenance": []
    },
    "kernelspec": {
      "display_name": "Python 3",
      "name": "python3"
    },
    "language_info": {
      "name": "python"
    },
    "widgets": {
      "application/vnd.jupyter.widget-state+json": {
        "099d5383f4d14f759034d7ce5dbfd0d0": {
          "model_module": "@jupyter-widgets/controls",
          "model_module_version": "1.5.0",
          "model_name": "DescriptionStyleModel",
          "state": {
            "_model_module": "@jupyter-widgets/controls",
            "_model_module_version": "1.5.0",
            "_model_name": "DescriptionStyleModel",
            "_view_count": null,
            "_view_module": "@jupyter-widgets/base",
            "_view_module_version": "1.2.0",
            "_view_name": "StyleView",
            "description_width": ""
          }
        },
        "0e3d6b4eb7714245969a91ed45216237": {
          "model_module": "@jupyter-widgets/controls",
          "model_module_version": "1.5.0",
          "model_name": "HBoxModel",
          "state": {
            "_dom_classes": [],
            "_model_module": "@jupyter-widgets/controls",
            "_model_module_version": "1.5.0",
            "_model_name": "HBoxModel",
            "_view_count": null,
            "_view_module": "@jupyter-widgets/controls",
            "_view_module_version": "1.5.0",
            "_view_name": "HBoxView",
            "box_style": "",
            "children": [
              "IPY_MODEL_d2553e990ead4ea391223a03e5c35e19",
              "IPY_MODEL_3077ee26150f448e8e29c72392d5fae7",
              "IPY_MODEL_ed62e8e5fca548a48d186fb46ff53a10"
            ],
            "layout": "IPY_MODEL_f1e2f18ec9f44a979447af0b5c697c28"
          }
        },
        "1426d6dd459741b58927e22e3c9fe7ed": {
          "model_module": "@jupyter-widgets/controls",
          "model_module_version": "1.5.0",
          "model_name": "ProgressStyleModel",
          "state": {
            "_model_module": "@jupyter-widgets/controls",
            "_model_module_version": "1.5.0",
            "_model_name": "ProgressStyleModel",
            "_view_count": null,
            "_view_module": "@jupyter-widgets/base",
            "_view_module_version": "1.2.0",
            "_view_name": "StyleView",
            "bar_color": null,
            "description_width": ""
          }
        },
        "1abae0e8cb00411ab1fbed38ab89de62": {
          "model_module": "@jupyter-widgets/controls",
          "model_module_version": "1.5.0",
          "model_name": "HTMLModel",
          "state": {
            "_dom_classes": [],
            "_model_module": "@jupyter-widgets/controls",
            "_model_module_version": "1.5.0",
            "_model_name": "HTMLModel",
            "_view_count": null,
            "_view_module": "@jupyter-widgets/controls",
            "_view_module_version": "1.5.0",
            "_view_name": "HTMLView",
            "description": "",
            "description_tooltip": null,
            "layout": "IPY_MODEL_472eee7695b349898a74c970bbbba224",
            "placeholder": "​",
            "style": "IPY_MODEL_d3bd48869ee34d59b96391db0b477c24",
            "value": "Downloading: 100%"
          }
        },
        "267eb0075a3d40098e311ea78860f948": {
          "model_module": "@jupyter-widgets/controls",
          "model_module_version": "1.5.0",
          "model_name": "FloatProgressModel",
          "state": {
            "_dom_classes": [],
            "_model_module": "@jupyter-widgets/controls",
            "_model_module_version": "1.5.0",
            "_model_name": "FloatProgressModel",
            "_view_count": null,
            "_view_module": "@jupyter-widgets/controls",
            "_view_module_version": "1.5.0",
            "_view_name": "ProgressView",
            "bar_style": "success",
            "description": "",
            "description_tooltip": null,
            "layout": "IPY_MODEL_b33dec134e4143d6a1380812ab028ad7",
            "max": 440473133,
            "min": 0,
            "orientation": "horizontal",
            "style": "IPY_MODEL_7f74f4f4c4a64211ab8befe5dde707a1",
            "value": 440473133
          }
        },
        "3077ee26150f448e8e29c72392d5fae7": {
          "model_module": "@jupyter-widgets/controls",
          "model_module_version": "1.5.0",
          "model_name": "FloatProgressModel",
          "state": {
            "_dom_classes": [],
            "_model_module": "@jupyter-widgets/controls",
            "_model_module_version": "1.5.0",
            "_model_name": "FloatProgressModel",
            "_view_count": null,
            "_view_module": "@jupyter-widgets/controls",
            "_view_module_version": "1.5.0",
            "_view_name": "ProgressView",
            "bar_style": "success",
            "description": "",
            "description_tooltip": null,
            "layout": "IPY_MODEL_419b1a3f7e70424bb27b2b73250a1e00",
            "max": 466062,
            "min": 0,
            "orientation": "horizontal",
            "style": "IPY_MODEL_5a4743c6952b4e7c8859e9fb9635cc5e",
            "value": 466062
          }
        },
        "3cc8d553f3aa4ea6b9f871eab1ed80a8": {
          "model_module": "@jupyter-widgets/controls",
          "model_module_version": "1.5.0",
          "model_name": "FloatProgressModel",
          "state": {
            "_dom_classes": [],
            "_model_module": "@jupyter-widgets/controls",
            "_model_module_version": "1.5.0",
            "_model_name": "FloatProgressModel",
            "_view_count": null,
            "_view_module": "@jupyter-widgets/controls",
            "_view_module_version": "1.5.0",
            "_view_name": "ProgressView",
            "bar_style": "success",
            "description": "",
            "description_tooltip": null,
            "layout": "IPY_MODEL_c06869c26a7c426189d1170d68eabdd9",
            "max": 28,
            "min": 0,
            "orientation": "horizontal",
            "style": "IPY_MODEL_71d3cb93f32b41ff950a53c1258b0bd0",
            "value": 28
          }
        },
        "419b1a3f7e70424bb27b2b73250a1e00": {
          "model_module": "@jupyter-widgets/base",
          "model_module_version": "1.2.0",
          "model_name": "LayoutModel",
          "state": {
            "_model_module": "@jupyter-widgets/base",
            "_model_module_version": "1.2.0",
            "_model_name": "LayoutModel",
            "_view_count": null,
            "_view_module": "@jupyter-widgets/base",
            "_view_module_version": "1.2.0",
            "_view_name": "LayoutView",
            "align_content": null,
            "align_items": null,
            "align_self": null,
            "border": null,
            "bottom": null,
            "display": null,
            "flex": null,
            "flex_flow": null,
            "grid_area": null,
            "grid_auto_columns": null,
            "grid_auto_flow": null,
            "grid_auto_rows": null,
            "grid_column": null,
            "grid_gap": null,
            "grid_row": null,
            "grid_template_areas": null,
            "grid_template_columns": null,
            "grid_template_rows": null,
            "height": null,
            "justify_content": null,
            "justify_items": null,
            "left": null,
            "margin": null,
            "max_height": null,
            "max_width": null,
            "min_height": null,
            "min_width": null,
            "object_fit": null,
            "object_position": null,
            "order": null,
            "overflow": null,
            "overflow_x": null,
            "overflow_y": null,
            "padding": null,
            "right": null,
            "top": null,
            "visibility": null,
            "width": null
          }
        },
        "44a67cbe7d314084be49af547693c686": {
          "model_module": "@jupyter-widgets/base",
          "model_module_version": "1.2.0",
          "model_name": "LayoutModel",
          "state": {
            "_model_module": "@jupyter-widgets/base",
            "_model_module_version": "1.2.0",
            "_model_name": "LayoutModel",
            "_view_count": null,
            "_view_module": "@jupyter-widgets/base",
            "_view_module_version": "1.2.0",
            "_view_name": "LayoutView",
            "align_content": null,
            "align_items": null,
            "align_self": null,
            "border": null,
            "bottom": null,
            "display": null,
            "flex": null,
            "flex_flow": null,
            "grid_area": null,
            "grid_auto_columns": null,
            "grid_auto_flow": null,
            "grid_auto_rows": null,
            "grid_column": null,
            "grid_gap": null,
            "grid_row": null,
            "grid_template_areas": null,
            "grid_template_columns": null,
            "grid_template_rows": null,
            "height": null,
            "justify_content": null,
            "justify_items": null,
            "left": null,
            "margin": null,
            "max_height": null,
            "max_width": null,
            "min_height": null,
            "min_width": null,
            "object_fit": null,
            "object_position": null,
            "order": null,
            "overflow": null,
            "overflow_x": null,
            "overflow_y": null,
            "padding": null,
            "right": null,
            "top": null,
            "visibility": null,
            "width": null
          }
        },
        "472eee7695b349898a74c970bbbba224": {
          "model_module": "@jupyter-widgets/base",
          "model_module_version": "1.2.0",
          "model_name": "LayoutModel",
          "state": {
            "_model_module": "@jupyter-widgets/base",
            "_model_module_version": "1.2.0",
            "_model_name": "LayoutModel",
            "_view_count": null,
            "_view_module": "@jupyter-widgets/base",
            "_view_module_version": "1.2.0",
            "_view_name": "LayoutView",
            "align_content": null,
            "align_items": null,
            "align_self": null,
            "border": null,
            "bottom": null,
            "display": null,
            "flex": null,
            "flex_flow": null,
            "grid_area": null,
            "grid_auto_columns": null,
            "grid_auto_flow": null,
            "grid_auto_rows": null,
            "grid_column": null,
            "grid_gap": null,
            "grid_row": null,
            "grid_template_areas": null,
            "grid_template_columns": null,
            "grid_template_rows": null,
            "height": null,
            "justify_content": null,
            "justify_items": null,
            "left": null,
            "margin": null,
            "max_height": null,
            "max_width": null,
            "min_height": null,
            "min_width": null,
            "object_fit": null,
            "object_position": null,
            "order": null,
            "overflow": null,
            "overflow_x": null,
            "overflow_y": null,
            "padding": null,
            "right": null,
            "top": null,
            "visibility": null,
            "width": null
          }
        },
        "4fe9558a4d474570bc57913c2b86f30d": {
          "model_module": "@jupyter-widgets/controls",
          "model_module_version": "1.5.0",
          "model_name": "HBoxModel",
          "state": {
            "_dom_classes": [],
            "_model_module": "@jupyter-widgets/controls",
            "_model_module_version": "1.5.0",
            "_model_name": "HBoxModel",
            "_view_count": null,
            "_view_module": "@jupyter-widgets/controls",
            "_view_module_version": "1.5.0",
            "_view_name": "HBoxView",
            "box_style": "",
            "children": [
              "IPY_MODEL_dcc68ca5cf1344538e3147efa88b8f2f",
              "IPY_MODEL_ddf2522310694938ba6ccb8a0de22c32",
              "IPY_MODEL_67bffdbd2ae043a3abc1eea4f8a96bd9"
            ],
            "layout": "IPY_MODEL_44a67cbe7d314084be49af547693c686"
          }
        },
        "527c9eb3c4bd48f08128e620e2fa8d66": {
          "model_module": "@jupyter-widgets/controls",
          "model_module_version": "1.5.0",
          "model_name": "DescriptionStyleModel",
          "state": {
            "_model_module": "@jupyter-widgets/controls",
            "_model_module_version": "1.5.0",
            "_model_name": "DescriptionStyleModel",
            "_view_count": null,
            "_view_module": "@jupyter-widgets/base",
            "_view_module_version": "1.2.0",
            "_view_name": "StyleView",
            "description_width": ""
          }
        },
        "5a4743c6952b4e7c8859e9fb9635cc5e": {
          "model_module": "@jupyter-widgets/controls",
          "model_module_version": "1.5.0",
          "model_name": "ProgressStyleModel",
          "state": {
            "_model_module": "@jupyter-widgets/controls",
            "_model_module_version": "1.5.0",
            "_model_name": "ProgressStyleModel",
            "_view_count": null,
            "_view_module": "@jupyter-widgets/base",
            "_view_module_version": "1.2.0",
            "_view_name": "StyleView",
            "bar_color": null,
            "description_width": ""
          }
        },
        "5b5c7b5d29f247fbab5465db80743610": {
          "model_module": "@jupyter-widgets/controls",
          "model_module_version": "1.5.0",
          "model_name": "HBoxModel",
          "state": {
            "_dom_classes": [],
            "_model_module": "@jupyter-widgets/controls",
            "_model_module_version": "1.5.0",
            "_model_name": "HBoxModel",
            "_view_count": null,
            "_view_module": "@jupyter-widgets/controls",
            "_view_module_version": "1.5.0",
            "_view_name": "HBoxView",
            "box_style": "",
            "children": [
              "IPY_MODEL_1abae0e8cb00411ab1fbed38ab89de62",
              "IPY_MODEL_267eb0075a3d40098e311ea78860f948",
              "IPY_MODEL_dbc58e7a89844d4085f660d9c6b1cc83"
            ],
            "layout": "IPY_MODEL_b1c4f10240224d08b5b9a7bf3b263fee"
          }
        },
        "60716695a7e148409c40ef6d2c6c4501": {
          "model_module": "@jupyter-widgets/base",
          "model_module_version": "1.2.0",
          "model_name": "LayoutModel",
          "state": {
            "_model_module": "@jupyter-widgets/base",
            "_model_module_version": "1.2.0",
            "_model_name": "LayoutModel",
            "_view_count": null,
            "_view_module": "@jupyter-widgets/base",
            "_view_module_version": "1.2.0",
            "_view_name": "LayoutView",
            "align_content": null,
            "align_items": null,
            "align_self": null,
            "border": null,
            "bottom": null,
            "display": null,
            "flex": null,
            "flex_flow": null,
            "grid_area": null,
            "grid_auto_columns": null,
            "grid_auto_flow": null,
            "grid_auto_rows": null,
            "grid_column": null,
            "grid_gap": null,
            "grid_row": null,
            "grid_template_areas": null,
            "grid_template_columns": null,
            "grid_template_rows": null,
            "height": null,
            "justify_content": null,
            "justify_items": null,
            "left": null,
            "margin": null,
            "max_height": null,
            "max_width": null,
            "min_height": null,
            "min_width": null,
            "object_fit": null,
            "object_position": null,
            "order": null,
            "overflow": null,
            "overflow_x": null,
            "overflow_y": null,
            "padding": null,
            "right": null,
            "top": null,
            "visibility": null,
            "width": null
          }
        },
        "67bffdbd2ae043a3abc1eea4f8a96bd9": {
          "model_module": "@jupyter-widgets/controls",
          "model_module_version": "1.5.0",
          "model_name": "HTMLModel",
          "state": {
            "_dom_classes": [],
            "_model_module": "@jupyter-widgets/controls",
            "_model_module_version": "1.5.0",
            "_model_name": "HTMLModel",
            "_view_count": null,
            "_view_module": "@jupyter-widgets/controls",
            "_view_module_version": "1.5.0",
            "_view_name": "HTMLView",
            "description": "",
            "description_tooltip": null,
            "layout": "IPY_MODEL_bb1a478eeab5444d81344a1e56f438a2",
            "placeholder": "​",
            "style": "IPY_MODEL_f70b6cb2ce774081b1adbc8d9c8226e3",
            "value": " 226k/226k [00:00&lt;00:00, 935kB/s]"
          }
        },
        "6971ce600c9f4e7b87f11739c5e6393d": {
          "model_module": "@jupyter-widgets/controls",
          "model_module_version": "1.5.0",
          "model_name": "DescriptionStyleModel",
          "state": {
            "_model_module": "@jupyter-widgets/controls",
            "_model_module_version": "1.5.0",
            "_model_name": "DescriptionStyleModel",
            "_view_count": null,
            "_view_module": "@jupyter-widgets/base",
            "_view_module_version": "1.2.0",
            "_view_name": "StyleView",
            "description_width": ""
          }
        },
        "6ec6a3e57ad14efea202d5589298222e": {
          "model_module": "@jupyter-widgets/controls",
          "model_module_version": "1.5.0",
          "model_name": "HTMLModel",
          "state": {
            "_dom_classes": [],
            "_model_module": "@jupyter-widgets/controls",
            "_model_module_version": "1.5.0",
            "_model_name": "HTMLModel",
            "_view_count": null,
            "_view_module": "@jupyter-widgets/controls",
            "_view_module_version": "1.5.0",
            "_view_name": "HTMLView",
            "description": "",
            "description_tooltip": null,
            "layout": "IPY_MODEL_7ce75a0b7a1a4a2b9bb526e5513b3653",
            "placeholder": "​",
            "style": "IPY_MODEL_8f78b969f2fe4bffa6087b14260fd49b",
            "value": "Downloading: 100%"
          }
        },
        "71d3cb93f32b41ff950a53c1258b0bd0": {
          "model_module": "@jupyter-widgets/controls",
          "model_module_version": "1.5.0",
          "model_name": "ProgressStyleModel",
          "state": {
            "_model_module": "@jupyter-widgets/controls",
            "_model_module_version": "1.5.0",
            "_model_name": "ProgressStyleModel",
            "_view_count": null,
            "_view_module": "@jupyter-widgets/base",
            "_view_module_version": "1.2.0",
            "_view_name": "StyleView",
            "bar_color": null,
            "description_width": ""
          }
        },
        "7494cc2532384ab1b87bf53365e33126": {
          "model_module": "@jupyter-widgets/controls",
          "model_module_version": "1.5.0",
          "model_name": "FloatProgressModel",
          "state": {
            "_dom_classes": [],
            "_model_module": "@jupyter-widgets/controls",
            "_model_module_version": "1.5.0",
            "_model_name": "FloatProgressModel",
            "_view_count": null,
            "_view_module": "@jupyter-widgets/controls",
            "_view_module_version": "1.5.0",
            "_view_name": "ProgressView",
            "bar_style": "success",
            "description": "",
            "description_tooltip": null,
            "layout": "IPY_MODEL_aa1a25a23e404bc4816745b93288761f",
            "max": 570,
            "min": 0,
            "orientation": "horizontal",
            "style": "IPY_MODEL_1426d6dd459741b58927e22e3c9fe7ed",
            "value": 570
          }
        },
        "7ce75a0b7a1a4a2b9bb526e5513b3653": {
          "model_module": "@jupyter-widgets/base",
          "model_module_version": "1.2.0",
          "model_name": "LayoutModel",
          "state": {
            "_model_module": "@jupyter-widgets/base",
            "_model_module_version": "1.2.0",
            "_model_name": "LayoutModel",
            "_view_count": null,
            "_view_module": "@jupyter-widgets/base",
            "_view_module_version": "1.2.0",
            "_view_name": "LayoutView",
            "align_content": null,
            "align_items": null,
            "align_self": null,
            "border": null,
            "bottom": null,
            "display": null,
            "flex": null,
            "flex_flow": null,
            "grid_area": null,
            "grid_auto_columns": null,
            "grid_auto_flow": null,
            "grid_auto_rows": null,
            "grid_column": null,
            "grid_gap": null,
            "grid_row": null,
            "grid_template_areas": null,
            "grid_template_columns": null,
            "grid_template_rows": null,
            "height": null,
            "justify_content": null,
            "justify_items": null,
            "left": null,
            "margin": null,
            "max_height": null,
            "max_width": null,
            "min_height": null,
            "min_width": null,
            "object_fit": null,
            "object_position": null,
            "order": null,
            "overflow": null,
            "overflow_x": null,
            "overflow_y": null,
            "padding": null,
            "right": null,
            "top": null,
            "visibility": null,
            "width": null
          }
        },
        "7f74f4f4c4a64211ab8befe5dde707a1": {
          "model_module": "@jupyter-widgets/controls",
          "model_module_version": "1.5.0",
          "model_name": "ProgressStyleModel",
          "state": {
            "_model_module": "@jupyter-widgets/controls",
            "_model_module_version": "1.5.0",
            "_model_name": "ProgressStyleModel",
            "_view_count": null,
            "_view_module": "@jupyter-widgets/base",
            "_view_module_version": "1.2.0",
            "_view_name": "StyleView",
            "bar_color": null,
            "description_width": ""
          }
        },
        "81358c7e264241839a56e2ef01f1e667": {
          "model_module": "@jupyter-widgets/controls",
          "model_module_version": "1.5.0",
          "model_name": "HTMLModel",
          "state": {
            "_dom_classes": [],
            "_model_module": "@jupyter-widgets/controls",
            "_model_module_version": "1.5.0",
            "_model_name": "HTMLModel",
            "_view_count": null,
            "_view_module": "@jupyter-widgets/controls",
            "_view_module_version": "1.5.0",
            "_view_name": "HTMLView",
            "description": "",
            "description_tooltip": null,
            "layout": "IPY_MODEL_60716695a7e148409c40ef6d2c6c4501",
            "placeholder": "​",
            "style": "IPY_MODEL_fba3c374f4504c6e8d7e809928bca1c8",
            "value": " 28.0/28.0 [00:00&lt;00:00, 739B/s]"
          }
        },
        "8a0563a638e24429a03f0a6f30ae3fab": {
          "model_module": "@jupyter-widgets/base",
          "model_module_version": "1.2.0",
          "model_name": "LayoutModel",
          "state": {
            "_model_module": "@jupyter-widgets/base",
            "_model_module_version": "1.2.0",
            "_model_name": "LayoutModel",
            "_view_count": null,
            "_view_module": "@jupyter-widgets/base",
            "_view_module_version": "1.2.0",
            "_view_name": "LayoutView",
            "align_content": null,
            "align_items": null,
            "align_self": null,
            "border": null,
            "bottom": null,
            "display": null,
            "flex": null,
            "flex_flow": null,
            "grid_area": null,
            "grid_auto_columns": null,
            "grid_auto_flow": null,
            "grid_auto_rows": null,
            "grid_column": null,
            "grid_gap": null,
            "grid_row": null,
            "grid_template_areas": null,
            "grid_template_columns": null,
            "grid_template_rows": null,
            "height": null,
            "justify_content": null,
            "justify_items": null,
            "left": null,
            "margin": null,
            "max_height": null,
            "max_width": null,
            "min_height": null,
            "min_width": null,
            "object_fit": null,
            "object_position": null,
            "order": null,
            "overflow": null,
            "overflow_x": null,
            "overflow_y": null,
            "padding": null,
            "right": null,
            "top": null,
            "visibility": null,
            "width": null
          }
        },
        "8d7192c525434d66823b1e965c1b207b": {
          "model_module": "@jupyter-widgets/controls",
          "model_module_version": "1.5.0",
          "model_name": "DescriptionStyleModel",
          "state": {
            "_model_module": "@jupyter-widgets/controls",
            "_model_module_version": "1.5.0",
            "_model_name": "DescriptionStyleModel",
            "_view_count": null,
            "_view_module": "@jupyter-widgets/base",
            "_view_module_version": "1.2.0",
            "_view_name": "StyleView",
            "description_width": ""
          }
        },
        "8f78b969f2fe4bffa6087b14260fd49b": {
          "model_module": "@jupyter-widgets/controls",
          "model_module_version": "1.5.0",
          "model_name": "DescriptionStyleModel",
          "state": {
            "_model_module": "@jupyter-widgets/controls",
            "_model_module_version": "1.5.0",
            "_model_name": "DescriptionStyleModel",
            "_view_count": null,
            "_view_module": "@jupyter-widgets/base",
            "_view_module_version": "1.2.0",
            "_view_name": "StyleView",
            "description_width": ""
          }
        },
        "96740095ee6d40a494996ef6f0d0538e": {
          "model_module": "@jupyter-widgets/base",
          "model_module_version": "1.2.0",
          "model_name": "LayoutModel",
          "state": {
            "_model_module": "@jupyter-widgets/base",
            "_model_module_version": "1.2.0",
            "_model_name": "LayoutModel",
            "_view_count": null,
            "_view_module": "@jupyter-widgets/base",
            "_view_module_version": "1.2.0",
            "_view_name": "LayoutView",
            "align_content": null,
            "align_items": null,
            "align_self": null,
            "border": null,
            "bottom": null,
            "display": null,
            "flex": null,
            "flex_flow": null,
            "grid_area": null,
            "grid_auto_columns": null,
            "grid_auto_flow": null,
            "grid_auto_rows": null,
            "grid_column": null,
            "grid_gap": null,
            "grid_row": null,
            "grid_template_areas": null,
            "grid_template_columns": null,
            "grid_template_rows": null,
            "height": null,
            "justify_content": null,
            "justify_items": null,
            "left": null,
            "margin": null,
            "max_height": null,
            "max_width": null,
            "min_height": null,
            "min_width": null,
            "object_fit": null,
            "object_position": null,
            "order": null,
            "overflow": null,
            "overflow_x": null,
            "overflow_y": null,
            "padding": null,
            "right": null,
            "top": null,
            "visibility": null,
            "width": null
          }
        },
        "a1e407141dfb46c0a6db451b57774024": {
          "model_module": "@jupyter-widgets/controls",
          "model_module_version": "1.5.0",
          "model_name": "HBoxModel",
          "state": {
            "_dom_classes": [],
            "_model_module": "@jupyter-widgets/controls",
            "_model_module_version": "1.5.0",
            "_model_name": "HBoxModel",
            "_view_count": null,
            "_view_module": "@jupyter-widgets/controls",
            "_view_module_version": "1.5.0",
            "_view_name": "HBoxView",
            "box_style": "",
            "children": [
              "IPY_MODEL_f01d21bd4b384e198b616d1795f4dc24",
              "IPY_MODEL_3cc8d553f3aa4ea6b9f871eab1ed80a8",
              "IPY_MODEL_81358c7e264241839a56e2ef01f1e667"
            ],
            "layout": "IPY_MODEL_96740095ee6d40a494996ef6f0d0538e"
          }
        },
        "a7061211c296428dba9d04ef1f54bc85": {
          "model_module": "@jupyter-widgets/base",
          "model_module_version": "1.2.0",
          "model_name": "LayoutModel",
          "state": {
            "_model_module": "@jupyter-widgets/base",
            "_model_module_version": "1.2.0",
            "_model_name": "LayoutModel",
            "_view_count": null,
            "_view_module": "@jupyter-widgets/base",
            "_view_module_version": "1.2.0",
            "_view_name": "LayoutView",
            "align_content": null,
            "align_items": null,
            "align_self": null,
            "border": null,
            "bottom": null,
            "display": null,
            "flex": null,
            "flex_flow": null,
            "grid_area": null,
            "grid_auto_columns": null,
            "grid_auto_flow": null,
            "grid_auto_rows": null,
            "grid_column": null,
            "grid_gap": null,
            "grid_row": null,
            "grid_template_areas": null,
            "grid_template_columns": null,
            "grid_template_rows": null,
            "height": null,
            "justify_content": null,
            "justify_items": null,
            "left": null,
            "margin": null,
            "max_height": null,
            "max_width": null,
            "min_height": null,
            "min_width": null,
            "object_fit": null,
            "object_position": null,
            "order": null,
            "overflow": null,
            "overflow_x": null,
            "overflow_y": null,
            "padding": null,
            "right": null,
            "top": null,
            "visibility": null,
            "width": null
          }
        },
        "aa1a25a23e404bc4816745b93288761f": {
          "model_module": "@jupyter-widgets/base",
          "model_module_version": "1.2.0",
          "model_name": "LayoutModel",
          "state": {
            "_model_module": "@jupyter-widgets/base",
            "_model_module_version": "1.2.0",
            "_model_name": "LayoutModel",
            "_view_count": null,
            "_view_module": "@jupyter-widgets/base",
            "_view_module_version": "1.2.0",
            "_view_name": "LayoutView",
            "align_content": null,
            "align_items": null,
            "align_self": null,
            "border": null,
            "bottom": null,
            "display": null,
            "flex": null,
            "flex_flow": null,
            "grid_area": null,
            "grid_auto_columns": null,
            "grid_auto_flow": null,
            "grid_auto_rows": null,
            "grid_column": null,
            "grid_gap": null,
            "grid_row": null,
            "grid_template_areas": null,
            "grid_template_columns": null,
            "grid_template_rows": null,
            "height": null,
            "justify_content": null,
            "justify_items": null,
            "left": null,
            "margin": null,
            "max_height": null,
            "max_width": null,
            "min_height": null,
            "min_width": null,
            "object_fit": null,
            "object_position": null,
            "order": null,
            "overflow": null,
            "overflow_x": null,
            "overflow_y": null,
            "padding": null,
            "right": null,
            "top": null,
            "visibility": null,
            "width": null
          }
        },
        "ad0a0ac5b006498b9c15a05cc4bdfba5": {
          "model_module": "@jupyter-widgets/base",
          "model_module_version": "1.2.0",
          "model_name": "LayoutModel",
          "state": {
            "_model_module": "@jupyter-widgets/base",
            "_model_module_version": "1.2.0",
            "_model_name": "LayoutModel",
            "_view_count": null,
            "_view_module": "@jupyter-widgets/base",
            "_view_module_version": "1.2.0",
            "_view_name": "LayoutView",
            "align_content": null,
            "align_items": null,
            "align_self": null,
            "border": null,
            "bottom": null,
            "display": null,
            "flex": null,
            "flex_flow": null,
            "grid_area": null,
            "grid_auto_columns": null,
            "grid_auto_flow": null,
            "grid_auto_rows": null,
            "grid_column": null,
            "grid_gap": null,
            "grid_row": null,
            "grid_template_areas": null,
            "grid_template_columns": null,
            "grid_template_rows": null,
            "height": null,
            "justify_content": null,
            "justify_items": null,
            "left": null,
            "margin": null,
            "max_height": null,
            "max_width": null,
            "min_height": null,
            "min_width": null,
            "object_fit": null,
            "object_position": null,
            "order": null,
            "overflow": null,
            "overflow_x": null,
            "overflow_y": null,
            "padding": null,
            "right": null,
            "top": null,
            "visibility": null,
            "width": null
          }
        },
        "b1c4f10240224d08b5b9a7bf3b263fee": {
          "model_module": "@jupyter-widgets/base",
          "model_module_version": "1.2.0",
          "model_name": "LayoutModel",
          "state": {
            "_model_module": "@jupyter-widgets/base",
            "_model_module_version": "1.2.0",
            "_model_name": "LayoutModel",
            "_view_count": null,
            "_view_module": "@jupyter-widgets/base",
            "_view_module_version": "1.2.0",
            "_view_name": "LayoutView",
            "align_content": null,
            "align_items": null,
            "align_self": null,
            "border": null,
            "bottom": null,
            "display": null,
            "flex": null,
            "flex_flow": null,
            "grid_area": null,
            "grid_auto_columns": null,
            "grid_auto_flow": null,
            "grid_auto_rows": null,
            "grid_column": null,
            "grid_gap": null,
            "grid_row": null,
            "grid_template_areas": null,
            "grid_template_columns": null,
            "grid_template_rows": null,
            "height": null,
            "justify_content": null,
            "justify_items": null,
            "left": null,
            "margin": null,
            "max_height": null,
            "max_width": null,
            "min_height": null,
            "min_width": null,
            "object_fit": null,
            "object_position": null,
            "order": null,
            "overflow": null,
            "overflow_x": null,
            "overflow_y": null,
            "padding": null,
            "right": null,
            "top": null,
            "visibility": null,
            "width": null
          }
        },
        "b33dec134e4143d6a1380812ab028ad7": {
          "model_module": "@jupyter-widgets/base",
          "model_module_version": "1.2.0",
          "model_name": "LayoutModel",
          "state": {
            "_model_module": "@jupyter-widgets/base",
            "_model_module_version": "1.2.0",
            "_model_name": "LayoutModel",
            "_view_count": null,
            "_view_module": "@jupyter-widgets/base",
            "_view_module_version": "1.2.0",
            "_view_name": "LayoutView",
            "align_content": null,
            "align_items": null,
            "align_self": null,
            "border": null,
            "bottom": null,
            "display": null,
            "flex": null,
            "flex_flow": null,
            "grid_area": null,
            "grid_auto_columns": null,
            "grid_auto_flow": null,
            "grid_auto_rows": null,
            "grid_column": null,
            "grid_gap": null,
            "grid_row": null,
            "grid_template_areas": null,
            "grid_template_columns": null,
            "grid_template_rows": null,
            "height": null,
            "justify_content": null,
            "justify_items": null,
            "left": null,
            "margin": null,
            "max_height": null,
            "max_width": null,
            "min_height": null,
            "min_width": null,
            "object_fit": null,
            "object_position": null,
            "order": null,
            "overflow": null,
            "overflow_x": null,
            "overflow_y": null,
            "padding": null,
            "right": null,
            "top": null,
            "visibility": null,
            "width": null
          }
        },
        "bb1a478eeab5444d81344a1e56f438a2": {
          "model_module": "@jupyter-widgets/base",
          "model_module_version": "1.2.0",
          "model_name": "LayoutModel",
          "state": {
            "_model_module": "@jupyter-widgets/base",
            "_model_module_version": "1.2.0",
            "_model_name": "LayoutModel",
            "_view_count": null,
            "_view_module": "@jupyter-widgets/base",
            "_view_module_version": "1.2.0",
            "_view_name": "LayoutView",
            "align_content": null,
            "align_items": null,
            "align_self": null,
            "border": null,
            "bottom": null,
            "display": null,
            "flex": null,
            "flex_flow": null,
            "grid_area": null,
            "grid_auto_columns": null,
            "grid_auto_flow": null,
            "grid_auto_rows": null,
            "grid_column": null,
            "grid_gap": null,
            "grid_row": null,
            "grid_template_areas": null,
            "grid_template_columns": null,
            "grid_template_rows": null,
            "height": null,
            "justify_content": null,
            "justify_items": null,
            "left": null,
            "margin": null,
            "max_height": null,
            "max_width": null,
            "min_height": null,
            "min_width": null,
            "object_fit": null,
            "object_position": null,
            "order": null,
            "overflow": null,
            "overflow_x": null,
            "overflow_y": null,
            "padding": null,
            "right": null,
            "top": null,
            "visibility": null,
            "width": null
          }
        },
        "c06869c26a7c426189d1170d68eabdd9": {
          "model_module": "@jupyter-widgets/base",
          "model_module_version": "1.2.0",
          "model_name": "LayoutModel",
          "state": {
            "_model_module": "@jupyter-widgets/base",
            "_model_module_version": "1.2.0",
            "_model_name": "LayoutModel",
            "_view_count": null,
            "_view_module": "@jupyter-widgets/base",
            "_view_module_version": "1.2.0",
            "_view_name": "LayoutView",
            "align_content": null,
            "align_items": null,
            "align_self": null,
            "border": null,
            "bottom": null,
            "display": null,
            "flex": null,
            "flex_flow": null,
            "grid_area": null,
            "grid_auto_columns": null,
            "grid_auto_flow": null,
            "grid_auto_rows": null,
            "grid_column": null,
            "grid_gap": null,
            "grid_row": null,
            "grid_template_areas": null,
            "grid_template_columns": null,
            "grid_template_rows": null,
            "height": null,
            "justify_content": null,
            "justify_items": null,
            "left": null,
            "margin": null,
            "max_height": null,
            "max_width": null,
            "min_height": null,
            "min_width": null,
            "object_fit": null,
            "object_position": null,
            "order": null,
            "overflow": null,
            "overflow_x": null,
            "overflow_y": null,
            "padding": null,
            "right": null,
            "top": null,
            "visibility": null,
            "width": null
          }
        },
        "c2b53f28def341e6b6a17d66c704ad93": {
          "model_module": "@jupyter-widgets/controls",
          "model_module_version": "1.5.0",
          "model_name": "ProgressStyleModel",
          "state": {
            "_model_module": "@jupyter-widgets/controls",
            "_model_module_version": "1.5.0",
            "_model_name": "ProgressStyleModel",
            "_view_count": null,
            "_view_module": "@jupyter-widgets/base",
            "_view_module_version": "1.2.0",
            "_view_name": "StyleView",
            "bar_color": null,
            "description_width": ""
          }
        },
        "c5654cbbd223436183a731c0d936f062": {
          "model_module": "@jupyter-widgets/controls",
          "model_module_version": "1.5.0",
          "model_name": "HTMLModel",
          "state": {
            "_dom_classes": [],
            "_model_module": "@jupyter-widgets/controls",
            "_model_module_version": "1.5.0",
            "_model_name": "HTMLModel",
            "_view_count": null,
            "_view_module": "@jupyter-widgets/controls",
            "_view_module_version": "1.5.0",
            "_view_name": "HTMLView",
            "description": "",
            "description_tooltip": null,
            "layout": "IPY_MODEL_cbdceef8dbc14eef8e2b525e09539a18",
            "placeholder": "​",
            "style": "IPY_MODEL_fe210a1c503148eb986799d5f5d3672d",
            "value": " 570/570 [00:00&lt;00:00, 12.4kB/s]"
          }
        },
        "cbdceef8dbc14eef8e2b525e09539a18": {
          "model_module": "@jupyter-widgets/base",
          "model_module_version": "1.2.0",
          "model_name": "LayoutModel",
          "state": {
            "_model_module": "@jupyter-widgets/base",
            "_model_module_version": "1.2.0",
            "_model_name": "LayoutModel",
            "_view_count": null,
            "_view_module": "@jupyter-widgets/base",
            "_view_module_version": "1.2.0",
            "_view_name": "LayoutView",
            "align_content": null,
            "align_items": null,
            "align_self": null,
            "border": null,
            "bottom": null,
            "display": null,
            "flex": null,
            "flex_flow": null,
            "grid_area": null,
            "grid_auto_columns": null,
            "grid_auto_flow": null,
            "grid_auto_rows": null,
            "grid_column": null,
            "grid_gap": null,
            "grid_row": null,
            "grid_template_areas": null,
            "grid_template_columns": null,
            "grid_template_rows": null,
            "height": null,
            "justify_content": null,
            "justify_items": null,
            "left": null,
            "margin": null,
            "max_height": null,
            "max_width": null,
            "min_height": null,
            "min_width": null,
            "object_fit": null,
            "object_position": null,
            "order": null,
            "overflow": null,
            "overflow_x": null,
            "overflow_y": null,
            "padding": null,
            "right": null,
            "top": null,
            "visibility": null,
            "width": null
          }
        },
        "cef2bc1dfbf043059dc0365b5fdec470": {
          "model_module": "@jupyter-widgets/base",
          "model_module_version": "1.2.0",
          "model_name": "LayoutModel",
          "state": {
            "_model_module": "@jupyter-widgets/base",
            "_model_module_version": "1.2.0",
            "_model_name": "LayoutModel",
            "_view_count": null,
            "_view_module": "@jupyter-widgets/base",
            "_view_module_version": "1.2.0",
            "_view_name": "LayoutView",
            "align_content": null,
            "align_items": null,
            "align_self": null,
            "border": null,
            "bottom": null,
            "display": null,
            "flex": null,
            "flex_flow": null,
            "grid_area": null,
            "grid_auto_columns": null,
            "grid_auto_flow": null,
            "grid_auto_rows": null,
            "grid_column": null,
            "grid_gap": null,
            "grid_row": null,
            "grid_template_areas": null,
            "grid_template_columns": null,
            "grid_template_rows": null,
            "height": null,
            "justify_content": null,
            "justify_items": null,
            "left": null,
            "margin": null,
            "max_height": null,
            "max_width": null,
            "min_height": null,
            "min_width": null,
            "object_fit": null,
            "object_position": null,
            "order": null,
            "overflow": null,
            "overflow_x": null,
            "overflow_y": null,
            "padding": null,
            "right": null,
            "top": null,
            "visibility": null,
            "width": null
          }
        },
        "d2553e990ead4ea391223a03e5c35e19": {
          "model_module": "@jupyter-widgets/controls",
          "model_module_version": "1.5.0",
          "model_name": "HTMLModel",
          "state": {
            "_dom_classes": [],
            "_model_module": "@jupyter-widgets/controls",
            "_model_module_version": "1.5.0",
            "_model_name": "HTMLModel",
            "_view_count": null,
            "_view_module": "@jupyter-widgets/controls",
            "_view_module_version": "1.5.0",
            "_view_name": "HTMLView",
            "description": "",
            "description_tooltip": null,
            "layout": "IPY_MODEL_cef2bc1dfbf043059dc0365b5fdec470",
            "placeholder": "​",
            "style": "IPY_MODEL_099d5383f4d14f759034d7ce5dbfd0d0",
            "value": "Downloading: 100%"
          }
        },
        "d3bd48869ee34d59b96391db0b477c24": {
          "model_module": "@jupyter-widgets/controls",
          "model_module_version": "1.5.0",
          "model_name": "DescriptionStyleModel",
          "state": {
            "_model_module": "@jupyter-widgets/controls",
            "_model_module_version": "1.5.0",
            "_model_name": "DescriptionStyleModel",
            "_view_count": null,
            "_view_module": "@jupyter-widgets/base",
            "_view_module_version": "1.2.0",
            "_view_name": "StyleView",
            "description_width": ""
          }
        },
        "dbc58e7a89844d4085f660d9c6b1cc83": {
          "model_module": "@jupyter-widgets/controls",
          "model_module_version": "1.5.0",
          "model_name": "HTMLModel",
          "state": {
            "_dom_classes": [],
            "_model_module": "@jupyter-widgets/controls",
            "_model_module_version": "1.5.0",
            "_model_name": "HTMLModel",
            "_view_count": null,
            "_view_module": "@jupyter-widgets/controls",
            "_view_module_version": "1.5.0",
            "_view_name": "HTMLView",
            "description": "",
            "description_tooltip": null,
            "layout": "IPY_MODEL_a7061211c296428dba9d04ef1f54bc85",
            "placeholder": "​",
            "style": "IPY_MODEL_6971ce600c9f4e7b87f11739c5e6393d",
            "value": " 420M/420M [00:14&lt;00:00, 32.0MB/s]"
          }
        },
        "dcc68ca5cf1344538e3147efa88b8f2f": {
          "model_module": "@jupyter-widgets/controls",
          "model_module_version": "1.5.0",
          "model_name": "HTMLModel",
          "state": {
            "_dom_classes": [],
            "_model_module": "@jupyter-widgets/controls",
            "_model_module_version": "1.5.0",
            "_model_name": "HTMLModel",
            "_view_count": null,
            "_view_module": "@jupyter-widgets/controls",
            "_view_module_version": "1.5.0",
            "_view_name": "HTMLView",
            "description": "",
            "description_tooltip": null,
            "layout": "IPY_MODEL_de7882c161bc4a0abb731a0a97ff0b8a",
            "placeholder": "​",
            "style": "IPY_MODEL_e0ce0bd9c4c14933ab125e71cf138578",
            "value": "Downloading: 100%"
          }
        },
        "ddf2522310694938ba6ccb8a0de22c32": {
          "model_module": "@jupyter-widgets/controls",
          "model_module_version": "1.5.0",
          "model_name": "FloatProgressModel",
          "state": {
            "_dom_classes": [],
            "_model_module": "@jupyter-widgets/controls",
            "_model_module_version": "1.5.0",
            "_model_name": "FloatProgressModel",
            "_view_count": null,
            "_view_module": "@jupyter-widgets/controls",
            "_view_module_version": "1.5.0",
            "_view_name": "ProgressView",
            "bar_style": "success",
            "description": "",
            "description_tooltip": null,
            "layout": "IPY_MODEL_8a0563a638e24429a03f0a6f30ae3fab",
            "max": 231508,
            "min": 0,
            "orientation": "horizontal",
            "style": "IPY_MODEL_c2b53f28def341e6b6a17d66c704ad93",
            "value": 231508
          }
        },
        "de7882c161bc4a0abb731a0a97ff0b8a": {
          "model_module": "@jupyter-widgets/base",
          "model_module_version": "1.2.0",
          "model_name": "LayoutModel",
          "state": {
            "_model_module": "@jupyter-widgets/base",
            "_model_module_version": "1.2.0",
            "_model_name": "LayoutModel",
            "_view_count": null,
            "_view_module": "@jupyter-widgets/base",
            "_view_module_version": "1.2.0",
            "_view_name": "LayoutView",
            "align_content": null,
            "align_items": null,
            "align_self": null,
            "border": null,
            "bottom": null,
            "display": null,
            "flex": null,
            "flex_flow": null,
            "grid_area": null,
            "grid_auto_columns": null,
            "grid_auto_flow": null,
            "grid_auto_rows": null,
            "grid_column": null,
            "grid_gap": null,
            "grid_row": null,
            "grid_template_areas": null,
            "grid_template_columns": null,
            "grid_template_rows": null,
            "height": null,
            "justify_content": null,
            "justify_items": null,
            "left": null,
            "margin": null,
            "max_height": null,
            "max_width": null,
            "min_height": null,
            "min_width": null,
            "object_fit": null,
            "object_position": null,
            "order": null,
            "overflow": null,
            "overflow_x": null,
            "overflow_y": null,
            "padding": null,
            "right": null,
            "top": null,
            "visibility": null,
            "width": null
          }
        },
        "e0ce0bd9c4c14933ab125e71cf138578": {
          "model_module": "@jupyter-widgets/controls",
          "model_module_version": "1.5.0",
          "model_name": "DescriptionStyleModel",
          "state": {
            "_model_module": "@jupyter-widgets/controls",
            "_model_module_version": "1.5.0",
            "_model_name": "DescriptionStyleModel",
            "_view_count": null,
            "_view_module": "@jupyter-widgets/base",
            "_view_module_version": "1.2.0",
            "_view_name": "StyleView",
            "description_width": ""
          }
        },
        "e4853f3a372748aaaa4858a3ff55665d": {
          "model_module": "@jupyter-widgets/controls",
          "model_module_version": "1.5.0",
          "model_name": "HBoxModel",
          "state": {
            "_dom_classes": [],
            "_model_module": "@jupyter-widgets/controls",
            "_model_module_version": "1.5.0",
            "_model_name": "HBoxModel",
            "_view_count": null,
            "_view_module": "@jupyter-widgets/controls",
            "_view_module_version": "1.5.0",
            "_view_name": "HBoxView",
            "box_style": "",
            "children": [
              "IPY_MODEL_6ec6a3e57ad14efea202d5589298222e",
              "IPY_MODEL_7494cc2532384ab1b87bf53365e33126",
              "IPY_MODEL_c5654cbbd223436183a731c0d936f062"
            ],
            "layout": "IPY_MODEL_e9c23c47a5fa40faa8a295b17cc91948"
          }
        },
        "e9c23c47a5fa40faa8a295b17cc91948": {
          "model_module": "@jupyter-widgets/base",
          "model_module_version": "1.2.0",
          "model_name": "LayoutModel",
          "state": {
            "_model_module": "@jupyter-widgets/base",
            "_model_module_version": "1.2.0",
            "_model_name": "LayoutModel",
            "_view_count": null,
            "_view_module": "@jupyter-widgets/base",
            "_view_module_version": "1.2.0",
            "_view_name": "LayoutView",
            "align_content": null,
            "align_items": null,
            "align_self": null,
            "border": null,
            "bottom": null,
            "display": null,
            "flex": null,
            "flex_flow": null,
            "grid_area": null,
            "grid_auto_columns": null,
            "grid_auto_flow": null,
            "grid_auto_rows": null,
            "grid_column": null,
            "grid_gap": null,
            "grid_row": null,
            "grid_template_areas": null,
            "grid_template_columns": null,
            "grid_template_rows": null,
            "height": null,
            "justify_content": null,
            "justify_items": null,
            "left": null,
            "margin": null,
            "max_height": null,
            "max_width": null,
            "min_height": null,
            "min_width": null,
            "object_fit": null,
            "object_position": null,
            "order": null,
            "overflow": null,
            "overflow_x": null,
            "overflow_y": null,
            "padding": null,
            "right": null,
            "top": null,
            "visibility": null,
            "width": null
          }
        },
        "ed62e8e5fca548a48d186fb46ff53a10": {
          "model_module": "@jupyter-widgets/controls",
          "model_module_version": "1.5.0",
          "model_name": "HTMLModel",
          "state": {
            "_dom_classes": [],
            "_model_module": "@jupyter-widgets/controls",
            "_model_module_version": "1.5.0",
            "_model_name": "HTMLModel",
            "_view_count": null,
            "_view_module": "@jupyter-widgets/controls",
            "_view_module_version": "1.5.0",
            "_view_name": "HTMLView",
            "description": "",
            "description_tooltip": null,
            "layout": "IPY_MODEL_ad0a0ac5b006498b9c15a05cc4bdfba5",
            "placeholder": "​",
            "style": "IPY_MODEL_8d7192c525434d66823b1e965c1b207b",
            "value": " 455k/455k [00:00&lt;00:00, 921kB/s]"
          }
        },
        "f01d21bd4b384e198b616d1795f4dc24": {
          "model_module": "@jupyter-widgets/controls",
          "model_module_version": "1.5.0",
          "model_name": "HTMLModel",
          "state": {
            "_dom_classes": [],
            "_model_module": "@jupyter-widgets/controls",
            "_model_module_version": "1.5.0",
            "_model_name": "HTMLModel",
            "_view_count": null,
            "_view_module": "@jupyter-widgets/controls",
            "_view_module_version": "1.5.0",
            "_view_name": "HTMLView",
            "description": "",
            "description_tooltip": null,
            "layout": "IPY_MODEL_fbd2e26757144e42a057254579b771e4",
            "placeholder": "​",
            "style": "IPY_MODEL_527c9eb3c4bd48f08128e620e2fa8d66",
            "value": "Downloading: 100%"
          }
        },
        "f1e2f18ec9f44a979447af0b5c697c28": {
          "model_module": "@jupyter-widgets/base",
          "model_module_version": "1.2.0",
          "model_name": "LayoutModel",
          "state": {
            "_model_module": "@jupyter-widgets/base",
            "_model_module_version": "1.2.0",
            "_model_name": "LayoutModel",
            "_view_count": null,
            "_view_module": "@jupyter-widgets/base",
            "_view_module_version": "1.2.0",
            "_view_name": "LayoutView",
            "align_content": null,
            "align_items": null,
            "align_self": null,
            "border": null,
            "bottom": null,
            "display": null,
            "flex": null,
            "flex_flow": null,
            "grid_area": null,
            "grid_auto_columns": null,
            "grid_auto_flow": null,
            "grid_auto_rows": null,
            "grid_column": null,
            "grid_gap": null,
            "grid_row": null,
            "grid_template_areas": null,
            "grid_template_columns": null,
            "grid_template_rows": null,
            "height": null,
            "justify_content": null,
            "justify_items": null,
            "left": null,
            "margin": null,
            "max_height": null,
            "max_width": null,
            "min_height": null,
            "min_width": null,
            "object_fit": null,
            "object_position": null,
            "order": null,
            "overflow": null,
            "overflow_x": null,
            "overflow_y": null,
            "padding": null,
            "right": null,
            "top": null,
            "visibility": null,
            "width": null
          }
        },
        "f70b6cb2ce774081b1adbc8d9c8226e3": {
          "model_module": "@jupyter-widgets/controls",
          "model_module_version": "1.5.0",
          "model_name": "DescriptionStyleModel",
          "state": {
            "_model_module": "@jupyter-widgets/controls",
            "_model_module_version": "1.5.0",
            "_model_name": "DescriptionStyleModel",
            "_view_count": null,
            "_view_module": "@jupyter-widgets/base",
            "_view_module_version": "1.2.0",
            "_view_name": "StyleView",
            "description_width": ""
          }
        },
        "fba3c374f4504c6e8d7e809928bca1c8": {
          "model_module": "@jupyter-widgets/controls",
          "model_module_version": "1.5.0",
          "model_name": "DescriptionStyleModel",
          "state": {
            "_model_module": "@jupyter-widgets/controls",
            "_model_module_version": "1.5.0",
            "_model_name": "DescriptionStyleModel",
            "_view_count": null,
            "_view_module": "@jupyter-widgets/base",
            "_view_module_version": "1.2.0",
            "_view_name": "StyleView",
            "description_width": ""
          }
        },
        "fbd2e26757144e42a057254579b771e4": {
          "model_module": "@jupyter-widgets/base",
          "model_module_version": "1.2.0",
          "model_name": "LayoutModel",
          "state": {
            "_model_module": "@jupyter-widgets/base",
            "_model_module_version": "1.2.0",
            "_model_name": "LayoutModel",
            "_view_count": null,
            "_view_module": "@jupyter-widgets/base",
            "_view_module_version": "1.2.0",
            "_view_name": "LayoutView",
            "align_content": null,
            "align_items": null,
            "align_self": null,
            "border": null,
            "bottom": null,
            "display": null,
            "flex": null,
            "flex_flow": null,
            "grid_area": null,
            "grid_auto_columns": null,
            "grid_auto_flow": null,
            "grid_auto_rows": null,
            "grid_column": null,
            "grid_gap": null,
            "grid_row": null,
            "grid_template_areas": null,
            "grid_template_columns": null,
            "grid_template_rows": null,
            "height": null,
            "justify_content": null,
            "justify_items": null,
            "left": null,
            "margin": null,
            "max_height": null,
            "max_width": null,
            "min_height": null,
            "min_width": null,
            "object_fit": null,
            "object_position": null,
            "order": null,
            "overflow": null,
            "overflow_x": null,
            "overflow_y": null,
            "padding": null,
            "right": null,
            "top": null,
            "visibility": null,
            "width": null
          }
        },
        "fe210a1c503148eb986799d5f5d3672d": {
          "model_module": "@jupyter-widgets/controls",
          "model_module_version": "1.5.0",
          "model_name": "DescriptionStyleModel",
          "state": {
            "_model_module": "@jupyter-widgets/controls",
            "_model_module_version": "1.5.0",
            "_model_name": "DescriptionStyleModel",
            "_view_count": null,
            "_view_module": "@jupyter-widgets/base",
            "_view_module_version": "1.2.0",
            "_view_name": "StyleView",
            "description_width": ""
          }
        }
      }
    }
  },
  "nbformat": 4,
  "nbformat_minor": 0
}